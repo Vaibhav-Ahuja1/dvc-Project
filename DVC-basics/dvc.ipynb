{
  "nbformat": 4,
  "nbformat_minor": 0,
  "metadata": {
    "colab": {
      "provenance": [],
      "authorship_tag": "ABX9TyPUpDDIjE7twse1oYceWnIx",
      "include_colab_link": true
    },
    "kernelspec": {
      "name": "python3",
      "display_name": "Python 3"
    },
    "language_info": {
      "name": "python"
    }
  },
  "cells": [
    {
      "cell_type": "markdown",
      "metadata": {
        "id": "view-in-github",
        "colab_type": "text"
      },
      "source": [
        "<a href=\"https://colab.research.google.com/github/Vaibhav-Ahuja1/dvc-project/blob/main/DVC-basics/dvc.ipynb\" target=\"_parent\"><img src=\"https://colab.research.google.com/assets/colab-badge.svg\" alt=\"Open In Colab\"/></a>"
      ]
    },
    {
      "cell_type": "markdown",
      "source": [
        "Firstly we'll install dvc and git"
      ],
      "metadata": {
        "id": "_HMOtaXsN-Dy"
      }
    },
    {
      "cell_type": "code",
      "execution_count": null,
      "metadata": {
        "id": "UxgUDlJKhFKl"
      },
      "outputs": [],
      "source": [
        "!pip install dvc"
      ]
    },
    {
      "cell_type": "code",
      "source": [
        "!sudo apt-get install git\n"
      ],
      "metadata": {
        "id": "V8cRr9DVPCBr"
      },
      "execution_count": null,
      "outputs": []
    },
    {
      "cell_type": "code",
      "source": [
        "!git --version"
      ],
      "metadata": {
        "id": "D1GqHzB5PRm1"
      },
      "execution_count": null,
      "outputs": []
    },
    {
      "cell_type": "markdown",
      "source": [
        "Now we will create a directory , that will serve as our git directoty and also it will have dvc inside it"
      ],
      "metadata": {
        "id": "sE0DNcaSOK50"
      }
    },
    {
      "cell_type": "code",
      "source": [
        "!mkdir data"
      ],
      "metadata": {
        "id": "YS9IibpwPXCT"
      },
      "execution_count": 5,
      "outputs": []
    },
    {
      "cell_type": "code",
      "source": [
        "!cd data"
      ],
      "metadata": {
        "id": "c8fOgaDBPgrz"
      },
      "execution_count": 7,
      "outputs": []
    },
    {
      "cell_type": "code",
      "source": [
        "!git init         # Let's initialize a git repo."
      ],
      "metadata": {
        "id": "wA9bbMaaPkp-"
      },
      "execution_count": null,
      "outputs": []
    },
    {
      "cell_type": "code",
      "source": [
        "!dvc init           # initializing a dvc repo , it's done only after initializing a git repo"
      ],
      "metadata": {
        "colab": {
          "base_uri": "https://localhost:8080/"
        },
        "id": "coA_bsj5PnwC",
        "outputId": "b5098371-42af-475b-ed30-c9c0bccdc15e"
      },
      "execution_count": 8,
      "outputs": [
        {
          "output_type": "stream",
          "name": "stdout",
          "text": [
            "Initialized DVC repository.\n",
            "\n",
            "You can now commit the changes to git.\n",
            "\n",
            "\u001b[31m+---------------------------------------------------------------------+\n",
            "\u001b[0m\u001b[31m|\u001b[0m                                                                     \u001b[31m|\u001b[0m\n",
            "\u001b[31m|\u001b[0m        DVC has enabled anonymous aggregate usage analytics.         \u001b[31m|\u001b[0m\n",
            "\u001b[31m|\u001b[0m     Read the analytics documentation (and how to opt-out) here:     \u001b[31m|\u001b[0m\n",
            "\u001b[31m|\u001b[0m             <\u001b[36mhttps://dvc.org/doc/user-guide/analytics\u001b[39m>              \u001b[31m|\u001b[0m\n",
            "\u001b[31m|\u001b[0m                                                                     \u001b[31m|\u001b[0m\n",
            "\u001b[31m+---------------------------------------------------------------------+\n",
            "\u001b[0m\n",
            "\u001b[33mWhat's next?\u001b[39m\n",
            "\u001b[33m------------\u001b[39m\n",
            "- Check out the documentation: <\u001b[36mhttps://dvc.org/doc\u001b[39m>\n",
            "- Get help and share ideas: <\u001b[36mhttps://dvc.org/chat\u001b[39m>\n",
            "- Star us on GitHub: <\u001b[36mhttps://github.com/iterative/dvc\u001b[39m>\n",
            "\u001b[0m"
          ]
        }
      ]
    },
    {
      "cell_type": "code",
      "source": [
        "!git status\n"
      ],
      "metadata": {
        "id": "qGIJD4VOPr1l"
      },
      "execution_count": null,
      "outputs": []
    },
    {
      "cell_type": "code",
      "source": [
        "! git config --global user.email \"ahujav557@gmail.com\"          #configure the local git \n",
        "!git config --global user.name \"Vaibhav Ahuja\""
      ],
      "metadata": {
        "id": "lZEcfKZOQGGY"
      },
      "execution_count": 10,
      "outputs": []
    },
    {
      "cell_type": "code",
      "source": [
        "!git commit -m \"initialize dvc\""
      ],
      "metadata": {
        "id": "nhctSO50QZ4M"
      },
      "execution_count": null,
      "outputs": []
    },
    {
      "cell_type": "code",
      "source": [
        "!dvc get https://github.com/iterative/dataset-registry \\        \n",
        "          get-started/data.xml -o data/data.xml\n",
        "\n",
        "# Similar to wget we have dvc get, it will help us fetch anything from internet"
      ],
      "metadata": {
        "id": "VDfUd46tQigP"
      },
      "execution_count": null,
      "outputs": []
    },
    {
      "cell_type": "code",
      "source": [
        "!ls\n"
      ],
      "metadata": {
        "id": "tF43fhFjw7SM"
      },
      "execution_count": null,
      "outputs": []
    },
    {
      "cell_type": "code",
      "source": [
        "!dvc add data/data.xml        #Similar to git add , but here it will generate a .dvc file of the files we mentioned"
      ],
      "metadata": {
        "id": "2BnGU8iwUiYR"
      },
      "execution_count": null,
      "outputs": []
    },
    {
      "cell_type": "code",
      "source": [
        "!git add data/.gitignore data/data.xml.dvc"
      ],
      "metadata": {
        "id": "tF58I3oGUq-y"
      },
      "execution_count": 15,
      "outputs": []
    },
    {
      "cell_type": "code",
      "source": [
        "!dvc config core.autostage true          #This will help us to eliminate the need of using dvc add again and again"
      ],
      "metadata": {
        "id": "i_hTgS5xUvh_",
        "colab": {
          "base_uri": "https://localhost:8080/"
        },
        "outputId": "33812e36-eba8-4795-db93-239d8cdcb64c"
      },
      "execution_count": 16,
      "outputs": [
        {
          "output_type": "stream",
          "name": "stdout",
          "text": [
            "\u001b[0m"
          ]
        }
      ]
    },
    {
      "cell_type": "code",
      "source": [
        "!git commit -m \"Add raw data\""
      ],
      "metadata": {
        "id": "06epsEz2U_Xc"
      },
      "execution_count": null,
      "outputs": []
    },
    {
      "cell_type": "code",
      "source": [
        "!ls\n"
      ],
      "metadata": {
        "colab": {
          "base_uri": "https://localhost:8080/"
        },
        "id": "uVauUpmQx2ln",
        "outputId": "0fd7f481-ea11-48ba-e4d5-be0360e9113f"
      },
      "execution_count": 18,
      "outputs": [
        {
          "output_type": "stream",
          "name": "stdout",
          "text": [
            "data  sample_data\n"
          ]
        }
      ]
    },
    {
      "cell_type": "code",
      "source": [
        "!ls data"
      ],
      "metadata": {
        "id": "velEYYl0x40I"
      },
      "execution_count": null,
      "outputs": []
    },
    {
      "cell_type": "code",
      "source": [
        "!cat data/data.xml.dvc        #This will print the .dvc file , it contains hash id and size of the file which we added\n",
        "                                # These hash id help us to locate our files in remote storage."
      ],
      "metadata": {
        "colab": {
          "base_uri": "https://localhost:8080/"
        },
        "id": "SDM4UMja1S_I",
        "outputId": "9e837342-ef1f-4609-f336-f5cdbcb315d8"
      },
      "execution_count": 38,
      "outputs": [
        {
          "output_type": "stream",
          "name": "stdout",
          "text": [
            "outs:\n",
            "- md5: 22a1a2931c8370d3aeedd7183606fd7f\n",
            "  size: 14445097\n",
            "  path: data.xml\n"
          ]
        }
      ]
    },
    {
      "cell_type": "code",
      "source": [
        "!pip install awscli boto3       # Installing aws cli to configure aws with colab"
      ],
      "metadata": {
        "id": "mMad1apHWvGT"
      },
      "execution_count": null,
      "outputs": []
    },
    {
      "cell_type": "code",
      "source": [
        "!aws configure"
      ],
      "metadata": {
        "id": "8cwSH21NXZ5E"
      },
      "execution_count": null,
      "outputs": []
    },
    {
      "cell_type": "code",
      "source": [
        "!touch create_bucket.py     # This file will create a bucket, you can also use aws console to do the same."
      ],
      "metadata": {
        "id": "2ICmc5_b2R-8"
      },
      "execution_count": null,
      "outputs": []
    },
    {
      "cell_type": "code",
      "source": [
        "!python create_bucket.py"
      ],
      "metadata": {
        "id": "4l08MoGs27xg"
      },
      "execution_count": null,
      "outputs": []
    },
    {
      "cell_type": "code",
      "source": [
        "# Add your bucket as dvc remote storage , so that from this point it will transfer all your data to\n",
        "# this storage when you fire dvc push command.\n",
        "\n",
        "!dvc remote add -d storage s3://project-dvcbucket/dvcstore\n",
        "print(\"Remote storage added\")\n"
      ],
      "metadata": {
        "colab": {
          "base_uri": "https://localhost:8080/"
        },
        "id": "oRN0gOMXVIMQ",
        "outputId": "a1779681-7c18-4a0c-c881-ecbc980367fc"
      },
      "execution_count": 22,
      "outputs": [
        {
          "output_type": "stream",
          "name": "stdout",
          "text": [
            "Setting 'storage' as a default remote.\n",
            "\u001b[0mRemote storage added\n"
          ]
        }
      ]
    },
    {
      "cell_type": "code",
      "source": [
        "!git commit .dvc/config -m \"configured remote storage\""
      ],
      "metadata": {
        "id": "1NF4KuSAVtAC"
      },
      "execution_count": null,
      "outputs": []
    },
    {
      "cell_type": "code",
      "source": [
        "!pip install dvc_s3     #This is an necessary module of colab for dvc connection with s3."
      ],
      "metadata": {
        "id": "GMcN9xIxFwZ-"
      },
      "execution_count": null,
      "outputs": []
    },
    {
      "cell_type": "code",
      "source": [
        "#Similar to git push , it will push them to configured remote storage.\n",
        "!dvc push"
      ],
      "metadata": {
        "id": "K9emIR1uGqPp"
      },
      "execution_count": null,
      "outputs": []
    },
    {
      "cell_type": "markdown",
      "source": [
        "Let's test our dvc setup.We will remove our data.xml file from our machine and also it's cached file. Then we will use dvc pull to see if dvc is able to restore it not. DVC is smart enough to check what files our missing and pull them only."
      ],
      "metadata": {
        "id": "aqWTfUHPTLOZ"
      }
    },
    {
      "cell_type": "code",
      "source": [
        "!rm -rf data/data.xml"
      ],
      "metadata": {
        "id": "WgCdHlCrHtcm"
      },
      "execution_count": 27,
      "outputs": []
    },
    {
      "cell_type": "code",
      "source": [
        "!rm -rf .dvc/cache"
      ],
      "metadata": {
        "id": "1Jl3B0vuH_cW"
      },
      "execution_count": 28,
      "outputs": []
    },
    {
      "cell_type": "code",
      "source": [
        "!dvc pull"
      ],
      "metadata": {
        "id": "y0ECvcREIKqf"
      },
      "execution_count": null,
      "outputs": []
    },
    {
      "cell_type": "code",
      "source": [
        "# Lets check!\n",
        "!ls -lh data/"
      ],
      "metadata": {
        "id": "faTCeodNIR7f"
      },
      "execution_count": null,
      "outputs": []
    },
    {
      "cell_type": "markdown",
      "source": [
        "Now we will see how to change files in dvc. Here we have duplicated our data and then added it to the same .xml file. "
      ],
      "metadata": {
        "id": "T_zI1xSzTvT3"
      }
    },
    {
      "cell_type": "code",
      "source": [
        "!cp data/data.xml /tmp/data.xml\n",
        "!cat /tmp/data.xml >> data/data.xml"
      ],
      "metadata": {
        "id": "xk3BpVE2JdhM"
      },
      "execution_count": 30,
      "outputs": []
    },
    {
      "cell_type": "code",
      "source": [
        "!ls -lh data/"
      ],
      "metadata": {
        "id": "W3287ERbJsb2"
      },
      "execution_count": null,
      "outputs": []
    },
    {
      "cell_type": "markdown",
      "source": [
        "So, if you match both these ls -lh command outputs, you'll see that the size of data.xml has got twice due to duplication."
      ],
      "metadata": {
        "id": "s87iPiG-JyRx"
      }
    },
    {
      "cell_type": "code",
      "source": [
        "!dvc add data/data.xml"
      ],
      "metadata": {
        "id": "LiIm391PJxrQ"
      },
      "execution_count": null,
      "outputs": []
    },
    {
      "cell_type": "code",
      "source": [
        "!dvc push"
      ],
      "metadata": {
        "id": "EcPvzM9PKULv"
      },
      "execution_count": null,
      "outputs": []
    },
    {
      "cell_type": "code",
      "source": [
        "!git commit data/data.xml.dvc -m \"Dataset updated\""
      ],
      "metadata": {
        "id": "SQIhkTpkKo8W"
      },
      "execution_count": null,
      "outputs": []
    },
    {
      "cell_type": "code",
      "source": [
        "!git log"
      ],
      "metadata": {
        "id": "ImUIUFXfLDTs"
      },
      "execution_count": null,
      "outputs": []
    },
    {
      "cell_type": "code",
      "source": [
        "#We are going back in time by doing checkout of the git log . To get back our original state of data.\n",
        "# Here we have selected our .dvc file, bcoz it's an address of our address.\n",
        "!git checkout HEAD^1 data/data.xml.dvc"
      ],
      "metadata": {
        "id": "bfVOwXlgLW-s"
      },
      "execution_count": null,
      "outputs": []
    },
    {
      "cell_type": "code",
      "source": [
        "!dvc checkout    #To sync data. The .dvc file has address of our old data now. As we do dvc checkout,\n",
        "                 # DVC will match the data associated with that old .dvc file and after that sync them to \n",
        "                 #complete the whole process."
      ],
      "metadata": {
        "id": "zUoJ79qpLqo_"
      },
      "execution_count": null,
      "outputs": []
    },
    {
      "cell_type": "code",
      "source": [
        "!ls -lh data/data.xml"
      ],
      "metadata": {
        "id": "Zb346F3wL7xR"
      },
      "execution_count": null,
      "outputs": []
    },
    {
      "cell_type": "markdown",
      "source": [
        "we are back to our original state , i.e. before duplication."
      ],
      "metadata": {
        "id": "NRcm-gRaMGn1"
      }
    },
    {
      "cell_type": "code",
      "source": [
        "!git commit data/data.xml.dvc -m \"datasets duplication changes are reverted\""
      ],
      "metadata": {
        "id": "pKXThFmCMFcA"
      },
      "execution_count": null,
      "outputs": []
    },
    {
      "cell_type": "markdown",
      "source": [
        "So uptil now we have seen all that dvc can do in versioning section . After this we will look for data & model access"
      ],
      "metadata": {
        "id": "JXLXYnd0PGKf"
      }
    }
  ]
}