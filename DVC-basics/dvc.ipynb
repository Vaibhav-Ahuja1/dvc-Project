{
  "nbformat": 4,
  "nbformat_minor": 0,
  "metadata": {
    "colab": {
      "provenance": [],
      "authorship_tag": "ABX9TyPoeXMQxgU2NNGVlmLsyLUK",
      "include_colab_link": true
    },
    "kernelspec": {
      "name": "python3",
      "display_name": "Python 3"
    },
    "language_info": {
      "name": "python"
    }
  },
  "cells": [
    {
      "cell_type": "markdown",
      "metadata": {
        "id": "view-in-github",
        "colab_type": "text"
      },
      "source": [
        "<a href=\"https://colab.research.google.com/github/Vaibhav-Ahuja1/dvc-project/blob/main/DVC-basics/dvc.ipynb\" target=\"_parent\"><img src=\"https://colab.research.google.com/assets/colab-badge.svg\" alt=\"Open In Colab\"/></a>"
      ]
    },
    {
      "cell_type": "code",
      "execution_count": 1,
      "metadata": {
        "id": "UxgUDlJKhFKl",
        "colab": {
          "base_uri": "https://localhost:8080/"
        },
        "outputId": "30561f0a-e4d7-4f83-f3cf-e4cefea3d9df"
      },
      "outputs": [
        {
          "output_type": "stream",
          "name": "stdout",
          "text": [
            "Looking in indexes: https://pypi.org/simple, https://us-python.pkg.dev/colab-wheels/public/simple/\n",
            "Collecting dvc\n",
            "  Downloading dvc-2.46.0-py3-none-any.whl (414 kB)\n",
            "\u001b[2K     \u001b[90m━━━━━━━━━━━━━━━━━━━━━━━━━━━━━━━━━━━━━━━\u001b[0m \u001b[32m414.3/414.3 KB\u001b[0m \u001b[31m7.8 MB/s\u001b[0m eta \u001b[36m0:00:00\u001b[0m\n",
            "\u001b[?25hCollecting dvc-render>=0.1.2\n",
            "  Downloading dvc_render-0.2.0-py3-none-any.whl (17 kB)\n",
            "Requirement already satisfied: packaging>=19 in /usr/local/lib/python3.8/dist-packages (from dvc) (23.0)\n",
            "Collecting shortuuid>=0.5\n",
            "  Downloading shortuuid-1.0.11-py3-none-any.whl (10 kB)\n",
            "Collecting dvc-http\n",
            "  Downloading dvc_http-2.30.2-py3-none-any.whl (12 kB)\n",
            "Collecting pathspec>=0.10.3\n",
            "  Downloading pathspec-0.11.0-py3-none-any.whl (29 kB)\n",
            "Collecting dvc-task<1,>=0.2.0\n",
            "  Downloading dvc_task-0.2.0-py3-none-any.whl (23 kB)\n",
            "Collecting hydra-core>=1.1\n",
            "  Downloading hydra_core-1.3.2-py3-none-any.whl (154 kB)\n",
            "\u001b[2K     \u001b[90m━━━━━━━━━━━━━━━━━━━━━━━━━━━━━━━━━━━━━━\u001b[0m \u001b[32m154.5/154.5 KB\u001b[0m \u001b[31m12.0 MB/s\u001b[0m eta \u001b[36m0:00:00\u001b[0m\n",
            "\u001b[?25hCollecting flatten-dict<1,>=0.4.1\n",
            "  Downloading flatten_dict-0.4.2-py2.py3-none-any.whl (9.7 kB)\n",
            "Requirement already satisfied: requests>=2.22 in /usr/local/lib/python3.8/dist-packages (from dvc) (2.25.1)\n",
            "Collecting configobj>=5.0.6\n",
            "  Downloading configobj-5.0.8-py2.py3-none-any.whl (36 kB)\n",
            "Collecting dvc-data<0.43,>=0.42.1\n",
            "  Downloading dvc_data-0.42.1-py3-none-any.whl (59 kB)\n",
            "\u001b[2K     \u001b[90m━━━━━━━━━━━━━━━━━━━━━━━━━━━━━━━━━━━━━━━━\u001b[0m \u001b[32m59.0/59.0 KB\u001b[0m \u001b[31m6.1 MB/s\u001b[0m eta \u001b[36m0:00:00\u001b[0m\n",
            "\u001b[?25hCollecting distro>=1.3\n",
            "  Downloading distro-1.8.0-py3-none-any.whl (20 kB)\n",
            "Requirement already satisfied: tqdm<5,>=4.63.1 in /usr/local/lib/python3.8/dist-packages (from dvc) (4.64.1)\n",
            "Requirement already satisfied: pyparsing>=2.4.7 in /usr/local/lib/python3.8/dist-packages (from dvc) (3.0.9)\n",
            "Collecting dpath<3,>=2.1.0\n",
            "  Downloading dpath-2.1.4-py3-none-any.whl (17 kB)\n",
            "Collecting scmrepo<1,>=0.1.15\n",
            "  Downloading scmrepo-0.1.15-py3-none-any.whl (49 kB)\n",
            "\u001b[2K     \u001b[90m━━━━━━━━━━━━━━━━━━━━━━━━━━━━━━━━━━━━━━━━\u001b[0m \u001b[32m49.2/49.2 KB\u001b[0m \u001b[31m4.5 MB/s\u001b[0m eta \u001b[36m0:00:00\u001b[0m\n",
            "\u001b[?25hCollecting tomlkit>=0.11.1\n",
            "  Downloading tomlkit-0.11.6-py3-none-any.whl (35 kB)\n",
            "Collecting ruamel.yaml>=0.17.11\n",
            "  Downloading ruamel.yaml-0.17.21-py3-none-any.whl (109 kB)\n",
            "\u001b[2K     \u001b[90m━━━━━━━━━━━━━━━━━━━━━━━━━━━━━━━━━━━━━━\u001b[0m \u001b[32m109.5/109.5 KB\u001b[0m \u001b[31m10.8 MB/s\u001b[0m eta \u001b[36m0:00:00\u001b[0m\n",
            "\u001b[?25hCollecting pygtrie>=2.3.2\n",
            "  Downloading pygtrie-2.5.0-py3-none-any.whl (25 kB)\n",
            "Collecting dvc-studio-client>=0.1.1\n",
            "  Downloading dvc_studio_client-0.5.1-py3-none-any.whl (9.8 kB)\n",
            "Requirement already satisfied: tabulate>=0.8.7 in /usr/local/lib/python3.8/dist-packages (from dvc) (0.8.10)\n",
            "Requirement already satisfied: pydot>=1.2.4 in /usr/local/lib/python3.8/dist-packages (from dvc) (1.3.0)\n",
            "Collecting grandalf<1,>=0.7\n",
            "  Downloading grandalf-0.8-py3-none-any.whl (41 kB)\n",
            "\u001b[2K     \u001b[90m━━━━━━━━━━━━━━━━━━━━━━━━━━━━━━━━━━━━━━━━\u001b[0m \u001b[32m41.8/41.8 KB\u001b[0m \u001b[31m4.2 MB/s\u001b[0m eta \u001b[36m0:00:00\u001b[0m\n",
            "\u001b[?25hCollecting shtab<2,>=1.3.4\n",
            "  Downloading shtab-1.5.8-py2.py3-none-any.whl (13 kB)\n",
            "Requirement already satisfied: networkx>=2.5 in /usr/local/lib/python3.8/dist-packages (from dvc) (3.0)\n",
            "Collecting funcy>=1.14\n",
            "  Downloading funcy-1.18-py2.py3-none-any.whl (33 kB)\n",
            "Collecting iterative-telemetry>=0.0.7\n",
            "  Downloading iterative_telemetry-0.0.7-py3-none-any.whl (10 kB)\n",
            "Collecting voluptuous>=0.11.7\n",
            "  Downloading voluptuous-0.13.1-py3-none-any.whl (29 kB)\n",
            "Collecting psutil>=5.8\n",
            "  Downloading psutil-5.9.4-cp36-abi3-manylinux_2_12_x86_64.manylinux2010_x86_64.manylinux_2_17_x86_64.manylinux2014_x86_64.whl (280 kB)\n",
            "\u001b[2K     \u001b[90m━━━━━━━━━━━━━━━━━━━━━━━━━━━━━━━━━━━━━━\u001b[0m \u001b[32m280.2/280.2 KB\u001b[0m \u001b[31m24.6 MB/s\u001b[0m eta \u001b[36m0:00:00\u001b[0m\n",
            "\u001b[?25hCollecting zc.lockfile>=1.2.1\n",
            "  Downloading zc.lockfile-3.0.post1-py3-none-any.whl (9.8 kB)\n",
            "Collecting rich>=12\n",
            "  Downloading rich-13.3.2-py3-none-any.whl (238 kB)\n",
            "\u001b[2K     \u001b[90m━━━━━━━━━━━━━━━━━━━━━━━━━━━━━━━━━━━━━━\u001b[0m \u001b[32m238.7/238.7 KB\u001b[0m \u001b[31m22.1 MB/s\u001b[0m eta \u001b[36m0:00:00\u001b[0m\n",
            "\u001b[?25hRequirement already satisfied: appdirs>=1.4.3 in /usr/local/lib/python3.8/dist-packages (from dvc) (1.4.4)\n",
            "Collecting flufl.lock>=5\n",
            "  Downloading flufl.lock-7.1.1-py3-none-any.whl (11 kB)\n",
            "Collecting colorama>=0.3.9\n",
            "  Downloading colorama-0.4.6-py2.py3-none-any.whl (25 kB)\n",
            "Requirement already satisfied: six in /usr/local/lib/python3.8/dist-packages (from configobj>=5.0.6->dvc) (1.15.0)\n",
            "Collecting nanotime>=0.5.2\n",
            "  Downloading nanotime-0.5.2.tar.gz (3.2 kB)\n",
            "  Preparing metadata (setup.py) ... \u001b[?25l\u001b[?25hdone\n",
            "Collecting diskcache>=5.2.1\n",
            "  Downloading diskcache-5.4.0-py3-none-any.whl (44 kB)\n",
            "\u001b[2K     \u001b[90m━━━━━━━━━━━━━━━━━━━━━━━━━━━━━━━━━━━━━━━━\u001b[0m \u001b[32m45.0/45.0 KB\u001b[0m \u001b[31m4.1 MB/s\u001b[0m eta \u001b[36m0:00:00\u001b[0m\n",
            "\u001b[?25hRequirement already satisfied: attrs>=21.3.0 in /usr/local/lib/python3.8/dist-packages (from dvc-data<0.43,>=0.42.1->dvc) (22.2.0)\n",
            "Collecting dvc-objects<1,>=0.21.1\n",
            "  Downloading dvc_objects-0.21.1-py3-none-any.whl (37 kB)\n",
            "Collecting dictdiffer>=0.8.1\n",
            "  Downloading dictdiffer-0.9.0-py2.py3-none-any.whl (16 kB)\n",
            "Collecting sqltrie<1,>=0.1.0\n",
            "  Downloading sqltrie-0.1.0-py3-none-any.whl (16 kB)\n",
            "Collecting gitpython\n",
            "  Downloading GitPython-3.1.31-py3-none-any.whl (184 kB)\n",
            "\u001b[2K     \u001b[90m━━━━━━━━━━━━━━━━━━━━━━━━━━━━━━━━━━━━━━\u001b[0m \u001b[32m184.3/184.3 KB\u001b[0m \u001b[31m13.8 MB/s\u001b[0m eta \u001b[36m0:00:00\u001b[0m\n",
            "\u001b[?25hCollecting celery<6,>=5.2.0\n",
            "  Downloading celery-5.2.7-py3-none-any.whl (405 kB)\n",
            "\u001b[2K     \u001b[90m━━━━━━━━━━━━━━━━━━━━━━━━━━━━━━━━━━━━━━\u001b[0m \u001b[32m405.6/405.6 KB\u001b[0m \u001b[31m28.6 MB/s\u001b[0m eta \u001b[36m0:00:00\u001b[0m\n",
            "\u001b[?25hCollecting kombu<6,>=5.2.0\n",
            "  Downloading kombu-5.2.4-py3-none-any.whl (189 kB)\n",
            "\u001b[2K     \u001b[90m━━━━━━━━━━━━━━━━━━━━━━━━━━━━━━━━━━━━━━\u001b[0m \u001b[32m189.2/189.2 KB\u001b[0m \u001b[31m16.7 MB/s\u001b[0m eta \u001b[36m0:00:00\u001b[0m\n",
            "\u001b[?25hCollecting atpublic>=2.3\n",
            "  Downloading atpublic-3.1.1-py3-none-any.whl (4.8 kB)\n",
            "Collecting omegaconf<2.4,>=2.2\n",
            "  Downloading omegaconf-2.3.0-py3-none-any.whl (79 kB)\n",
            "\u001b[2K     \u001b[90m━━━━━━━━━━━━━━━━━━━━━━━━━━━━━━━━━━━━━━━━\u001b[0m \u001b[32m79.5/79.5 KB\u001b[0m \u001b[31m8.4 MB/s\u001b[0m eta \u001b[36m0:00:00\u001b[0m\n",
            "\u001b[?25hCollecting antlr4-python3-runtime==4.9.*\n",
            "  Downloading antlr4-python3-runtime-4.9.3.tar.gz (117 kB)\n",
            "\u001b[2K     \u001b[90m━━━━━━━━━━━━━━━━━━━━━━━━━━━━━━━━━━━━━━\u001b[0m \u001b[32m117.0/117.0 KB\u001b[0m \u001b[31m11.3 MB/s\u001b[0m eta \u001b[36m0:00:00\u001b[0m\n",
            "\u001b[?25h  Preparing metadata (setup.py) ... \u001b[?25l\u001b[?25hdone\n",
            "Requirement already satisfied: importlib-resources in /usr/local/lib/python3.8/dist-packages (from hydra-core>=1.1->dvc) (5.12.0)\n",
            "Requirement already satisfied: filelock in /usr/local/lib/python3.8/dist-packages (from iterative-telemetry>=0.0.7->dvc) (3.9.0)\n",
            "Requirement already satisfied: chardet<5,>=3.0.2 in /usr/local/lib/python3.8/dist-packages (from requests>=2.22->dvc) (4.0.0)\n",
            "Requirement already satisfied: idna<3,>=2.5 in /usr/local/lib/python3.8/dist-packages (from requests>=2.22->dvc) (2.10)\n",
            "Requirement already satisfied: certifi>=2017.4.17 in /usr/local/lib/python3.8/dist-packages (from requests>=2.22->dvc) (2022.12.7)\n",
            "Requirement already satisfied: urllib3<1.27,>=1.21.1 in /usr/local/lib/python3.8/dist-packages (from requests>=2.22->dvc) (1.26.14)\n",
            "Requirement already satisfied: typing-extensions<5.0,>=4.0.0 in /usr/local/lib/python3.8/dist-packages (from rich>=12->dvc) (4.5.0)\n",
            "Collecting markdown-it-py<3.0.0,>=2.2.0\n",
            "  Downloading markdown_it_py-2.2.0-py3-none-any.whl (84 kB)\n",
            "\u001b[2K     \u001b[90m━━━━━━━━━━━━━━━━━━━━━━━━━━━━━━━━━━━━━━━━\u001b[0m \u001b[32m84.5/84.5 KB\u001b[0m \u001b[31m8.0 MB/s\u001b[0m eta \u001b[36m0:00:00\u001b[0m\n",
            "\u001b[?25hCollecting pygments<3.0.0,>=2.13.0\n",
            "  Downloading Pygments-2.14.0-py3-none-any.whl (1.1 MB)\n",
            "\u001b[2K     \u001b[90m━━━━━━━━━━━━━━━━━━━━━━━━━━━━━━━━━━━━━━━━\u001b[0m \u001b[32m1.1/1.1 MB\u001b[0m \u001b[31m51.9 MB/s\u001b[0m eta \u001b[36m0:00:00\u001b[0m\n",
            "\u001b[?25hCollecting ruamel.yaml.clib>=0.2.6\n",
            "  Downloading ruamel.yaml.clib-0.2.7-cp38-cp38-manylinux_2_17_x86_64.manylinux2014_x86_64.manylinux_2_24_x86_64.whl (555 kB)\n",
            "\u001b[2K     \u001b[90m━━━━━━━━━━━━━━━━━━━━━━━━━━━━━━━━━━━━━━\u001b[0m \u001b[32m555.3/555.3 KB\u001b[0m \u001b[31m33.7 MB/s\u001b[0m eta \u001b[36m0:00:00\u001b[0m\n",
            "\u001b[?25hRequirement already satisfied: fsspec>=2021.7.0 in /usr/local/lib/python3.8/dist-packages (from scmrepo<1,>=0.1.15->dvc) (2023.1.0)\n",
            "Collecting dulwich>=0.20.49\n",
            "  Downloading dulwich-0.21.3-cp38-cp38-manylinux_2_17_x86_64.manylinux2014_x86_64.whl (508 kB)\n",
            "\u001b[2K     \u001b[90m━━━━━━━━━━━━━━━━━━━━━━━━━━━━━━━━━━━━━━\u001b[0m \u001b[32m508.7/508.7 KB\u001b[0m \u001b[31m34.8 MB/s\u001b[0m eta \u001b[36m0:00:00\u001b[0m\n",
            "\u001b[?25hCollecting asyncssh<3,>=2.7.1\n",
            "  Downloading asyncssh-2.13.1-py3-none-any.whl (348 kB)\n",
            "\u001b[2K     \u001b[90m━━━━━━━━━━━━━━━━━━━━━━━━━━━━━━━━━━━━━━\u001b[0m \u001b[32m348.5/348.5 KB\u001b[0m \u001b[31m30.3 MB/s\u001b[0m eta \u001b[36m0:00:00\u001b[0m\n",
            "\u001b[?25hCollecting pygit2>=1.10.0\n",
            "  Downloading pygit2-1.11.1-cp38-cp38-manylinux_2_24_x86_64.whl (3.7 MB)\n",
            "\u001b[2K     \u001b[90m━━━━━━━━━━━━━━━━━━━━━━━━━━━━━━━━━━━━━━━━\u001b[0m \u001b[32m3.7/3.7 MB\u001b[0m \u001b[31m74.0 MB/s\u001b[0m eta \u001b[36m0:00:00\u001b[0m\n",
            "\u001b[?25hRequirement already satisfied: setuptools in /usr/local/lib/python3.8/dist-packages (from zc.lockfile>=1.2.1->dvc) (57.4.0)\n",
            "Collecting aiohttp-retry>=2.5.0\n",
            "  Downloading aiohttp_retry-2.8.3-py3-none-any.whl (9.8 kB)\n",
            "Requirement already satisfied: aiohttp in /usr/local/lib/python3.8/dist-packages (from aiohttp-retry>=2.5.0->dvc-http->dvc) (3.8.4)\n",
            "Collecting cryptography>=3.1\n",
            "  Downloading cryptography-39.0.2-cp36-abi3-manylinux_2_28_x86_64.whl (4.2 MB)\n",
            "\u001b[2K     \u001b[90m━━━━━━━━━━━━━━━━━━━━━━━━━━━━━━━━━━━━━━━━\u001b[0m \u001b[32m4.2/4.2 MB\u001b[0m \u001b[31m73.6 MB/s\u001b[0m eta \u001b[36m0:00:00\u001b[0m\n",
            "\u001b[?25hCollecting click-didyoumean>=0.0.3\n",
            "  Downloading click_didyoumean-0.3.0-py3-none-any.whl (2.7 kB)\n",
            "Collecting click-plugins>=1.1.1\n",
            "  Downloading click_plugins-1.1.1-py2.py3-none-any.whl (7.5 kB)\n",
            "Collecting vine<6.0,>=5.0.0\n",
            "  Downloading vine-5.0.0-py2.py3-none-any.whl (9.4 kB)\n",
            "Requirement already satisfied: pytz>=2021.3 in /usr/local/lib/python3.8/dist-packages (from celery<6,>=5.2.0->dvc-task<1,>=0.2.0->dvc) (2022.7.1)\n",
            "Collecting click-repl>=0.2.0\n",
            "  Downloading click_repl-0.2.0-py3-none-any.whl (5.2 kB)\n",
            "Collecting billiard<4.0,>=3.6.4.0\n",
            "  Downloading billiard-3.6.4.0-py3-none-any.whl (89 kB)\n",
            "\u001b[2K     \u001b[90m━━━━━━━━━━━━━━━━━━━━━━━━━━━━━━━━━━━━━━━━\u001b[0m \u001b[32m89.5/89.5 KB\u001b[0m \u001b[31m9.8 MB/s\u001b[0m eta \u001b[36m0:00:00\u001b[0m\n",
            "\u001b[?25hRequirement already satisfied: click<9.0,>=8.0.3 in /usr/local/lib/python3.8/dist-packages (from celery<6,>=5.2.0->dvc-task<1,>=0.2.0->dvc) (8.1.3)\n",
            "Collecting gitdb<5,>=4.0.1\n",
            "  Downloading gitdb-4.0.10-py3-none-any.whl (62 kB)\n",
            "\u001b[2K     \u001b[90m━━━━━━━━━━━━━━━━━━━━━━━━━━━━━━━━━━━━━━━━\u001b[0m \u001b[32m62.7/62.7 KB\u001b[0m \u001b[31m7.0 MB/s\u001b[0m eta \u001b[36m0:00:00\u001b[0m\n",
            "\u001b[?25hCollecting amqp<6.0.0,>=5.0.9\n",
            "  Downloading amqp-5.1.1-py3-none-any.whl (50 kB)\n",
            "\u001b[2K     \u001b[90m━━━━━━━━━━━━━━━━━━━━━━━━━━━━━━━━━━━━━━━━\u001b[0m \u001b[32m50.8/50.8 KB\u001b[0m \u001b[31m5.9 MB/s\u001b[0m eta \u001b[36m0:00:00\u001b[0m\n",
            "\u001b[?25hCollecting mdurl~=0.1\n",
            "  Downloading mdurl-0.1.2-py3-none-any.whl (10.0 kB)\n",
            "Requirement already satisfied: PyYAML>=5.1.0 in /usr/local/lib/python3.8/dist-packages (from omegaconf<2.4,>=2.2->hydra-core>=1.1->dvc) (6.0)\n",
            "Requirement already satisfied: cffi>=1.9.1 in /usr/local/lib/python3.8/dist-packages (from pygit2>=1.10.0->scmrepo<1,>=0.1.15->dvc) (1.15.1)\n",
            "Collecting orjson\n",
            "  Downloading orjson-3.8.7-cp38-cp38-manylinux_2_28_x86_64.whl (140 kB)\n",
            "\u001b[2K     \u001b[90m━━━━━━━━━━━━━━━━━━━━━━━━━━━━━━━━━━━━━━\u001b[0m \u001b[32m140.7/140.7 KB\u001b[0m \u001b[31m14.2 MB/s\u001b[0m eta \u001b[36m0:00:00\u001b[0m\n",
            "\u001b[?25hRequirement already satisfied: zipp>=3.1.0 in /usr/local/lib/python3.8/dist-packages (from importlib-resources->hydra-core>=1.1->dvc) (3.15.0)\n",
            "Requirement already satisfied: async-timeout<5.0,>=4.0.0a3 in /usr/local/lib/python3.8/dist-packages (from aiohttp->aiohttp-retry>=2.5.0->dvc-http->dvc) (4.0.2)\n",
            "Requirement already satisfied: frozenlist>=1.1.1 in /usr/local/lib/python3.8/dist-packages (from aiohttp->aiohttp-retry>=2.5.0->dvc-http->dvc) (1.3.3)\n",
            "Requirement already satisfied: charset-normalizer<4.0,>=2.0 in /usr/local/lib/python3.8/dist-packages (from aiohttp->aiohttp-retry>=2.5.0->dvc-http->dvc) (3.0.1)\n",
            "Requirement already satisfied: aiosignal>=1.1.2 in /usr/local/lib/python3.8/dist-packages (from aiohttp->aiohttp-retry>=2.5.0->dvc-http->dvc) (1.3.1)\n",
            "Requirement already satisfied: multidict<7.0,>=4.5 in /usr/local/lib/python3.8/dist-packages (from aiohttp->aiohttp-retry>=2.5.0->dvc-http->dvc) (6.0.4)\n",
            "Requirement already satisfied: yarl<2.0,>=1.0 in /usr/local/lib/python3.8/dist-packages (from aiohttp->aiohttp-retry>=2.5.0->dvc-http->dvc) (1.8.2)\n",
            "Requirement already satisfied: pycparser in /usr/local/lib/python3.8/dist-packages (from cffi>=1.9.1->pygit2>=1.10.0->scmrepo<1,>=0.1.15->dvc) (2.21)\n",
            "Requirement already satisfied: prompt-toolkit in /usr/local/lib/python3.8/dist-packages (from click-repl>=0.2.0->celery<6,>=5.2.0->dvc-task<1,>=0.2.0->dvc) (2.0.10)\n",
            "Collecting smmap<6,>=3.0.1\n",
            "  Downloading smmap-5.0.0-py3-none-any.whl (24 kB)\n",
            "Requirement already satisfied: wcwidth in /usr/local/lib/python3.8/dist-packages (from prompt-toolkit->click-repl>=0.2.0->celery<6,>=5.2.0->dvc-task<1,>=0.2.0->dvc) (0.2.6)\n",
            "Building wheels for collected packages: antlr4-python3-runtime, nanotime\n",
            "  Building wheel for antlr4-python3-runtime (setup.py) ... \u001b[?25l\u001b[?25hdone\n",
            "  Created wheel for antlr4-python3-runtime: filename=antlr4_python3_runtime-4.9.3-py3-none-any.whl size=144575 sha256=06da3825141c4ccd2a26a5abc3bbca3618e19b5f1d1049ac4da95bbc37650543\n",
            "  Stored in directory: /root/.cache/pip/wheels/b1/a3/c2/6df046c09459b73cc9bb6c4401b0be6c47048baf9a1617c485\n",
            "  Building wheel for nanotime (setup.py) ... \u001b[?25l\u001b[?25hdone\n",
            "  Created wheel for nanotime: filename=nanotime-0.5.2-py3-none-any.whl size=2440 sha256=98990e0b9ad670d71664e4918e08a63c77b38f44f5b52a0554cba2d09062ceb0\n",
            "  Stored in directory: /root/.cache/pip/wheels/59/72/23/ea2daa0727a9f7824c0656b73c1f3d8d13f5327729eadb7084\n",
            "Successfully built antlr4-python3-runtime nanotime\n",
            "Installing collected packages: voluptuous, pygtrie, nanotime, funcy, dictdiffer, billiard, antlr4-python3-runtime, zc.lockfile, vine, tomlkit, smmap, shtab, shortuuid, ruamel.yaml.clib, pygments, psutil, pathspec, orjson, omegaconf, mdurl, grandalf, flatten-dict, dvc-render, dulwich, dpath, distro, diskcache, configobj, colorama, click-plugins, click-didyoumean, atpublic, sqltrie, ruamel.yaml, pygit2, markdown-it-py, iterative-telemetry, hydra-core, gitdb, flufl.lock, dvc-objects, cryptography, click-repl, amqp, rich, kombu, gitpython, dvc-data, asyncssh, aiohttp-retry, scmrepo, dvc-studio-client, dvc-http, celery, dvc-task, dvc\n",
            "  Attempting uninstall: pygments\n",
            "    Found existing installation: Pygments 2.6.1\n",
            "    Uninstalling Pygments-2.6.1:\n",
            "      Successfully uninstalled Pygments-2.6.1\n",
            "  Attempting uninstall: psutil\n",
            "    Found existing installation: psutil 5.4.8\n",
            "    Uninstalling psutil-5.4.8:\n",
            "      Successfully uninstalled psutil-5.4.8\n",
            "\u001b[31mERROR: pip's dependency resolver does not currently take into account all the packages that are installed. This behaviour is the source of the following dependency conflicts.\n",
            "ipython 7.9.0 requires jedi>=0.10, which is not installed.\u001b[0m\u001b[31m\n",
            "\u001b[0mSuccessfully installed aiohttp-retry-2.8.3 amqp-5.1.1 antlr4-python3-runtime-4.9.3 asyncssh-2.13.1 atpublic-3.1.1 billiard-3.6.4.0 celery-5.2.7 click-didyoumean-0.3.0 click-plugins-1.1.1 click-repl-0.2.0 colorama-0.4.6 configobj-5.0.8 cryptography-39.0.2 dictdiffer-0.9.0 diskcache-5.4.0 distro-1.8.0 dpath-2.1.4 dulwich-0.21.3 dvc-2.46.0 dvc-data-0.42.1 dvc-http-2.30.2 dvc-objects-0.21.1 dvc-render-0.2.0 dvc-studio-client-0.5.1 dvc-task-0.2.0 flatten-dict-0.4.2 flufl.lock-7.1.1 funcy-1.18 gitdb-4.0.10 gitpython-3.1.31 grandalf-0.8 hydra-core-1.3.2 iterative-telemetry-0.0.7 kombu-5.2.4 markdown-it-py-2.2.0 mdurl-0.1.2 nanotime-0.5.2 omegaconf-2.3.0 orjson-3.8.7 pathspec-0.11.0 psutil-5.9.4 pygit2-1.11.1 pygments-2.14.0 pygtrie-2.5.0 rich-13.3.2 ruamel.yaml-0.17.21 ruamel.yaml.clib-0.2.7 scmrepo-0.1.15 shortuuid-1.0.11 shtab-1.5.8 smmap-5.0.0 sqltrie-0.1.0 tomlkit-0.11.6 vine-5.0.0 voluptuous-0.13.1 zc.lockfile-3.0.post1\n"
          ]
        }
      ],
      "source": [
        "!pip install dvc"
      ]
    },
    {
      "cell_type": "code",
      "source": [
        "!sudo apt-get install git\n"
      ],
      "metadata": {
        "colab": {
          "base_uri": "https://localhost:8080/"
        },
        "id": "V8cRr9DVPCBr",
        "outputId": "2cb3440e-fb54-4e9e-e4dd-d34fa3940856"
      },
      "execution_count": 2,
      "outputs": [
        {
          "output_type": "stream",
          "name": "stdout",
          "text": [
            "Reading package lists... Done\n",
            "Building dependency tree       \n",
            "Reading state information... Done\n",
            "git is already the newest version (1:2.25.1-1ubuntu3.10).\n",
            "0 upgraded, 0 newly installed, 0 to remove and 22 not upgraded.\n"
          ]
        }
      ]
    },
    {
      "cell_type": "code",
      "source": [
        "!git --version"
      ],
      "metadata": {
        "colab": {
          "base_uri": "https://localhost:8080/"
        },
        "id": "D1GqHzB5PRm1",
        "outputId": "24c0a337-0986-47dd-fa2f-91379bd09a08"
      },
      "execution_count": 3,
      "outputs": [
        {
          "output_type": "stream",
          "name": "stdout",
          "text": [
            "git version 2.25.1\n"
          ]
        }
      ]
    },
    {
      "cell_type": "code",
      "source": [
        "!mkdir data"
      ],
      "metadata": {
        "id": "YS9IibpwPXCT"
      },
      "execution_count": 4,
      "outputs": []
    },
    {
      "cell_type": "code",
      "source": [
        "!cd data"
      ],
      "metadata": {
        "id": "c8fOgaDBPgrz"
      },
      "execution_count": 5,
      "outputs": []
    },
    {
      "cell_type": "code",
      "source": [
        "!git init"
      ],
      "metadata": {
        "colab": {
          "base_uri": "https://localhost:8080/"
        },
        "id": "wA9bbMaaPkp-",
        "outputId": "eca9c2b2-6783-4118-b24a-c82409032f71"
      },
      "execution_count": 6,
      "outputs": [
        {
          "output_type": "stream",
          "name": "stdout",
          "text": [
            "Initialized empty Git repository in /content/.git/\n"
          ]
        }
      ]
    },
    {
      "cell_type": "code",
      "source": [
        "!dvc init"
      ],
      "metadata": {
        "colab": {
          "base_uri": "https://localhost:8080/"
        },
        "id": "coA_bsj5PnwC",
        "outputId": "e0d08d08-70d6-4dda-be2b-fe95589af8a3"
      },
      "execution_count": 7,
      "outputs": [
        {
          "output_type": "stream",
          "name": "stdout",
          "text": [
            "Initialized DVC repository.\n",
            "\n",
            "You can now commit the changes to git.\n",
            "\n",
            "\u001b[31m+---------------------------------------------------------------------+\n",
            "\u001b[0m\u001b[31m|\u001b[0m                                                                     \u001b[31m|\u001b[0m\n",
            "\u001b[31m|\u001b[0m        DVC has enabled anonymous aggregate usage analytics.         \u001b[31m|\u001b[0m\n",
            "\u001b[31m|\u001b[0m     Read the analytics documentation (and how to opt-out) here:     \u001b[31m|\u001b[0m\n",
            "\u001b[31m|\u001b[0m             <\u001b[36mhttps://dvc.org/doc/user-guide/analytics\u001b[39m>              \u001b[31m|\u001b[0m\n",
            "\u001b[31m|\u001b[0m                                                                     \u001b[31m|\u001b[0m\n",
            "\u001b[31m+---------------------------------------------------------------------+\n",
            "\u001b[0m\n",
            "\u001b[33mWhat's next?\u001b[39m\n",
            "\u001b[33m------------\u001b[39m\n",
            "- Check out the documentation: <\u001b[36mhttps://dvc.org/doc\u001b[39m>\n",
            "- Get help and share ideas: <\u001b[36mhttps://dvc.org/chat\u001b[39m>\n",
            "- Star us on GitHub: <\u001b[36mhttps://github.com/iterative/dvc\u001b[39m>\n",
            "\u001b[0m"
          ]
        }
      ]
    },
    {
      "cell_type": "code",
      "source": [
        "!git status\n"
      ],
      "metadata": {
        "colab": {
          "base_uri": "https://localhost:8080/"
        },
        "id": "qGIJD4VOPr1l",
        "outputId": "5e458e5b-866d-4efe-c734-158bb00d3c7b"
      },
      "execution_count": 8,
      "outputs": [
        {
          "output_type": "stream",
          "name": "stdout",
          "text": [
            "On branch master\n",
            "\n",
            "No commits yet\n",
            "\n",
            "Changes to be committed:\n",
            "  (use \"git rm --cached <file>...\" to unstage)\n",
            "\t\u001b[32mnew file:   .dvc/.gitignore\u001b[m\n",
            "\t\u001b[32mnew file:   .dvc/config\u001b[m\n",
            "\t\u001b[32mnew file:   .dvcignore\u001b[m\n",
            "\n",
            "Untracked files:\n",
            "  (use \"git add <file>...\" to include in what will be committed)\n",
            "\t\u001b[31m.config/\u001b[m\n",
            "\t\u001b[31msample_data/\u001b[m\n",
            "\n"
          ]
        }
      ]
    },
    {
      "cell_type": "code",
      "source": [
        "! git config --global user.email \"ahujav557@gmail.com\"\n",
        "!git config --global user.name \"Vaibhav Ahuja\""
      ],
      "metadata": {
        "id": "lZEcfKZOQGGY"
      },
      "execution_count": 9,
      "outputs": []
    },
    {
      "cell_type": "code",
      "source": [
        "!git commit -m \"initialize dvc\""
      ],
      "metadata": {
        "colab": {
          "base_uri": "https://localhost:8080/"
        },
        "id": "nhctSO50QZ4M",
        "outputId": "9f2a6490-4696-4e56-99df-0fa16e6d0f94"
      },
      "execution_count": 10,
      "outputs": [
        {
          "output_type": "stream",
          "name": "stdout",
          "text": [
            "[master (root-commit) 286428a] initialize dvc\n",
            " 3 files changed, 6 insertions(+)\n",
            " create mode 100644 .dvc/.gitignore\n",
            " create mode 100644 .dvc/config\n",
            " create mode 100644 .dvcignore\n"
          ]
        }
      ]
    },
    {
      "cell_type": "code",
      "source": [
        "!dvc get https://github.com/iterative/dataset-registry \\\n",
        "          get-started/data.xml -o data/data.xml"
      ],
      "metadata": {
        "colab": {
          "base_uri": "https://localhost:8080/"
        },
        "id": "VDfUd46tQigP",
        "outputId": "ddb6babd-37e0-482b-da80-61e380d3b032"
      },
      "execution_count": 11,
      "outputs": [
        {
          "output_type": "stream",
          "name": "stdout",
          "text": [
            "Downloading data.xml:   0% 0/1 [00:00<?, ?files/s{'info': ''}] \n",
            "!\u001b[A\n",
            "  0%|          |get-started/data.xml               0.00/? [00:00<?,        ?B/s]\u001b[A\n",
            "get-started/data.xml:   0% 0.00/13.8M [00:00<?, ?B/s{'info': ''}]               \u001b[A\n",
            "get-started/data.xml:   2% 288k/13.8M [00:00<00:05, 2.57MB/s{'info': ''}]\u001b[A\n",
            "Downloading data.xml: 100% 1/1 [00:00<00:00,  1.39files/s{'info': ''}]\n",
            "\u001b[0m"
          ]
        }
      ]
    },
    {
      "cell_type": "code",
      "source": [
        "!ls\n"
      ],
      "metadata": {
        "id": "tF43fhFjw7SM"
      },
      "execution_count": null,
      "outputs": []
    },
    {
      "cell_type": "code",
      "source": [
        "!dvc add data/data.xml"
      ],
      "metadata": {
        "colab": {
          "base_uri": "https://localhost:8080/"
        },
        "id": "2BnGU8iwUiYR",
        "outputId": "4583169f-c4e0-4a51-d5e1-65c0732208c3"
      },
      "execution_count": 12,
      "outputs": [
        {
          "output_type": "stream",
          "name": "stdout",
          "text": [
            "\u001b[2K\u001b[32m⠹\u001b[0m Checking graph\n",
            "Adding...:   0% 0/1 [00:00<?, ?file/s{'info': ''}]\n",
            "!\u001b[A\n",
            "  0% |          |0/? [00:00<?,    ?files/s]\u001b[A\n",
            "                                           \u001b[A\n",
            "!\u001b[A\n",
            "  0%|          |Transferring                          0/? [00:00<?,     ?file/s]\u001b[A\n",
            "Transferring:   0% 0/1 [00:00<?, ?file/s{'info': ''}]                           \u001b[A\n",
            "Adding...: 100% 1/1 [00:00<00:00,  4.58file/s{'info': ''}]\n",
            "\n",
            "To track the changes with git, run:\n",
            "\n",
            "\tgit add data/data.xml.dvc data/.gitignore\n",
            "\n",
            "To enable auto staging, run:\n",
            "\n",
            "\tdvc config core.autostage true\n",
            "\u001b[0m"
          ]
        }
      ]
    },
    {
      "cell_type": "code",
      "source": [
        "!git add data/.gitignore data/data.xml.dvc"
      ],
      "metadata": {
        "id": "tF58I3oGUq-y"
      },
      "execution_count": 13,
      "outputs": []
    },
    {
      "cell_type": "code",
      "source": [
        "!dvc config core.autostage true"
      ],
      "metadata": {
        "id": "i_hTgS5xUvh_"
      },
      "execution_count": null,
      "outputs": []
    },
    {
      "cell_type": "code",
      "source": [
        "!git commit -m \"Add raw data\""
      ],
      "metadata": {
        "id": "06epsEz2U_Xc",
        "colab": {
          "base_uri": "https://localhost:8080/"
        },
        "outputId": "679d738e-defd-4af2-ae45-543b8e607015"
      },
      "execution_count": 14,
      "outputs": [
        {
          "output_type": "stream",
          "name": "stdout",
          "text": [
            "[master 3b74d37] Add raw data\n",
            " 2 files changed, 5 insertions(+)\n",
            " create mode 100644 data/.gitignore\n",
            " create mode 100644 data/data.xml.dvc\n"
          ]
        }
      ]
    },
    {
      "cell_type": "code",
      "source": [
        "!ls\n"
      ],
      "metadata": {
        "colab": {
          "base_uri": "https://localhost:8080/"
        },
        "id": "uVauUpmQx2ln",
        "outputId": "298edbb5-c2ea-4190-9bc8-8edcf5c47860"
      },
      "execution_count": 15,
      "outputs": [
        {
          "output_type": "stream",
          "name": "stdout",
          "text": [
            "data  sample_data\n"
          ]
        }
      ]
    },
    {
      "cell_type": "code",
      "source": [
        "!ls data"
      ],
      "metadata": {
        "colab": {
          "base_uri": "https://localhost:8080/"
        },
        "id": "velEYYl0x40I",
        "outputId": "8216c219-a867-42ae-95d6-f6afc6cbb6c0"
      },
      "execution_count": 16,
      "outputs": [
        {
          "output_type": "stream",
          "name": "stdout",
          "text": [
            "data.xml  data.xml.dvc\n"
          ]
        }
      ]
    },
    {
      "cell_type": "code",
      "source": [
        "!cat data/data.xml.dvc"
      ],
      "metadata": {
        "colab": {
          "base_uri": "https://localhost:8080/"
        },
        "id": "SDM4UMja1S_I",
        "outputId": "b196d4c5-b672-476e-cff2-bcdf77608304"
      },
      "execution_count": 18,
      "outputs": [
        {
          "output_type": "stream",
          "name": "stdout",
          "text": [
            "outs:\n",
            "- md5: 22a1a2931c8370d3aeedd7183606fd7f\n",
            "  size: 14445097\n",
            "  path: data.xml\n"
          ]
        }
      ]
    },
    {
      "cell_type": "code",
      "source": [
        "!pip install awscli boto3"
      ],
      "metadata": {
        "colab": {
          "base_uri": "https://localhost:8080/"
        },
        "id": "mMad1apHWvGT",
        "outputId": "fe1cc683-b114-4347-c69c-867bc56ac967"
      },
      "execution_count": 19,
      "outputs": [
        {
          "output_type": "stream",
          "name": "stdout",
          "text": [
            "Looking in indexes: https://pypi.org/simple, https://us-python.pkg.dev/colab-wheels/public/simple/\n",
            "Collecting awscli\n",
            "  Downloading awscli-1.27.86-py3-none-any.whl (4.0 MB)\n",
            "\u001b[2K     \u001b[90m━━━━━━━━━━━━━━━━━━━━━━━━━━━━━━━━━━━━━━━━\u001b[0m \u001b[32m4.0/4.0 MB\u001b[0m \u001b[31m30.7 MB/s\u001b[0m eta \u001b[36m0:00:00\u001b[0m\n",
            "\u001b[?25hCollecting boto3\n",
            "  Downloading boto3-1.26.86-py3-none-any.whl (134 kB)\n",
            "\u001b[2K     \u001b[90m━━━━━━━━━━━━━━━━━━━━━━━━━━━━━━━━━━━━━━\u001b[0m \u001b[32m134.7/134.7 KB\u001b[0m \u001b[31m10.8 MB/s\u001b[0m eta \u001b[36m0:00:00\u001b[0m\n",
            "\u001b[?25hCollecting botocore==1.29.86\n",
            "  Downloading botocore-1.29.86-py3-none-any.whl (10.5 MB)\n",
            "\u001b[2K     \u001b[90m━━━━━━━━━━━━━━━━━━━━━━━━━━━━━━━━━━━━━━━━\u001b[0m \u001b[32m10.5/10.5 MB\u001b[0m \u001b[31m52.6 MB/s\u001b[0m eta \u001b[36m0:00:00\u001b[0m\n",
            "\u001b[?25hCollecting s3transfer<0.7.0,>=0.6.0\n",
            "  Downloading s3transfer-0.6.0-py3-none-any.whl (79 kB)\n",
            "\u001b[2K     \u001b[90m━━━━━━━━━━━━━━━━━━━━━━━━━━━━━━━━━━━━━━━━\u001b[0m \u001b[32m79.6/79.6 KB\u001b[0m \u001b[31m8.2 MB/s\u001b[0m eta \u001b[36m0:00:00\u001b[0m\n",
            "\u001b[?25hCollecting colorama<0.4.5,>=0.2.5\n",
            "  Downloading colorama-0.4.4-py2.py3-none-any.whl (16 kB)\n",
            "Requirement already satisfied: docutils<0.17,>=0.10 in /usr/local/lib/python3.8/dist-packages (from awscli) (0.16)\n",
            "Collecting rsa<4.8,>=3.1.2\n",
            "  Downloading rsa-4.7.2-py3-none-any.whl (34 kB)\n",
            "Collecting PyYAML<5.5,>=3.10\n",
            "  Downloading PyYAML-5.4.1-cp38-cp38-manylinux1_x86_64.whl (662 kB)\n",
            "\u001b[2K     \u001b[90m━━━━━━━━━━━━━━━━━━━━━━━━━━━━━━━━━━━━━━\u001b[0m \u001b[32m662.4/662.4 KB\u001b[0m \u001b[31m37.8 MB/s\u001b[0m eta \u001b[36m0:00:00\u001b[0m\n",
            "\u001b[?25hCollecting jmespath<2.0.0,>=0.7.1\n",
            "  Downloading jmespath-1.0.1-py3-none-any.whl (20 kB)\n",
            "Requirement already satisfied: python-dateutil<3.0.0,>=2.1 in /usr/local/lib/python3.8/dist-packages (from botocore==1.29.86->awscli) (2.8.2)\n",
            "Requirement already satisfied: urllib3<1.27,>=1.25.4 in /usr/local/lib/python3.8/dist-packages (from botocore==1.29.86->awscli) (1.26.14)\n",
            "Requirement already satisfied: pyasn1>=0.1.3 in /usr/local/lib/python3.8/dist-packages (from rsa<4.8,>=3.1.2->awscli) (0.4.8)\n",
            "Requirement already satisfied: six>=1.5 in /usr/local/lib/python3.8/dist-packages (from python-dateutil<3.0.0,>=2.1->botocore==1.29.86->awscli) (1.15.0)\n",
            "Installing collected packages: rsa, PyYAML, jmespath, colorama, botocore, s3transfer, boto3, awscli\n",
            "  Attempting uninstall: rsa\n",
            "    Found existing installation: rsa 4.9\n",
            "    Uninstalling rsa-4.9:\n",
            "      Successfully uninstalled rsa-4.9\n",
            "  Attempting uninstall: PyYAML\n",
            "    Found existing installation: PyYAML 6.0\n",
            "    Uninstalling PyYAML-6.0:\n",
            "      Successfully uninstalled PyYAML-6.0\n",
            "  Attempting uninstall: colorama\n",
            "    Found existing installation: colorama 0.4.6\n",
            "    Uninstalling colorama-0.4.6:\n",
            "      Successfully uninstalled colorama-0.4.6\n",
            "Successfully installed PyYAML-5.4.1 awscli-1.27.86 boto3-1.26.86 botocore-1.29.86 colorama-0.4.4 jmespath-1.0.1 rsa-4.7.2 s3transfer-0.6.0\n"
          ]
        }
      ]
    },
    {
      "cell_type": "code",
      "source": [
        "!aws configure"
      ],
      "metadata": {
        "colab": {
          "base_uri": "https://localhost:8080/"
        },
        "id": "8cwSH21NXZ5E",
        "outputId": "a9388bf6-fc29-4a20-ac90-35f60a798099"
      },
      "execution_count": 21,
      "outputs": [
        {
          "output_type": "stream",
          "name": "stdout",
          "text": [
            "\n",
            "AWS Access Key ID [****************T4OQ]: AWS Secret Access Key [****************eepv]: \n",
            "Default region name [us-east-1]: \n",
            "Default output format [kson]: json\n"
          ]
        }
      ]
    },
    {
      "cell_type": "code",
      "source": [
        "!touch create_bucket.py"
      ],
      "metadata": {
        "id": "2ICmc5_b2R-8"
      },
      "execution_count": 23,
      "outputs": []
    },
    {
      "cell_type": "code",
      "source": [
        "!python create_bucket.py"
      ],
      "metadata": {
        "id": "4l08MoGs27xg"
      },
      "execution_count": 32,
      "outputs": []
    },
    {
      "cell_type": "code",
      "source": [
        "!dvc remote add -d storage s3://project-dvcbucket/dvcstore\n",
        "print(\"Remote storage added\")\n"
      ],
      "metadata": {
        "colab": {
          "base_uri": "https://localhost:8080/"
        },
        "id": "oRN0gOMXVIMQ",
        "outputId": "0e7a1582-0eda-4f60-8583-1d3e00583f81"
      },
      "execution_count": 33,
      "outputs": [
        {
          "output_type": "stream",
          "name": "stdout",
          "text": [
            "Setting 'storage' as a default remote.\n",
            "\u001b[0mRemote storage added\n"
          ]
        }
      ]
    },
    {
      "cell_type": "code",
      "source": [
        "!git commit .dvc/config -m \"configured remote storage\""
      ],
      "metadata": {
        "id": "1NF4KuSAVtAC",
        "colab": {
          "base_uri": "https://localhost:8080/"
        },
        "outputId": "f2b9c8b6-cefe-423e-c895-a8f3ab431bbe"
      },
      "execution_count": 35,
      "outputs": [
        {
          "output_type": "stream",
          "name": "stdout",
          "text": [
            "[master 57dc0e9] configured remote storage\n",
            " 1 file changed, 4 insertions(+)\n"
          ]
        }
      ]
    },
    {
      "cell_type": "code",
      "source": [
        "!pip install dvc_s3"
      ],
      "metadata": {
        "colab": {
          "base_uri": "https://localhost:8080/"
        },
        "id": "GMcN9xIxFwZ-",
        "outputId": "7f1b2914-fd8c-4e8d-86b5-fc5f2e6038bf"
      },
      "execution_count": 37,
      "outputs": [
        {
          "output_type": "stream",
          "name": "stdout",
          "text": [
            "Looking in indexes: https://pypi.org/simple, https://us-python.pkg.dev/colab-wheels/public/simple/\n",
            "Collecting dvc_s3\n",
            "  Downloading dvc_s3-2.21.0-py3-none-any.whl (12 kB)\n",
            "Requirement already satisfied: flatten-dict<1,>=0.4.1 in /usr/local/lib/python3.8/dist-packages (from dvc_s3) (0.4.2)\n",
            "Collecting aiobotocore[boto3]>1.0.1\n",
            "  Downloading aiobotocore-2.5.0-py3-none-any.whl (72 kB)\n",
            "\u001b[2K     \u001b[90m━━━━━━━━━━━━━━━━━━━━━━━━━━━━━━━━━━━━━━━━\u001b[0m \u001b[32m72.7/72.7 KB\u001b[0m \u001b[31m2.5 MB/s\u001b[0m eta \u001b[36m0:00:00\u001b[0m\n",
            "\u001b[?25hCollecting s3fs>=2022.02.0\n",
            "  Downloading s3fs-2023.3.0-py3-none-any.whl (27 kB)\n",
            "Requirement already satisfied: dvc in /usr/local/lib/python3.8/dist-packages (from dvc_s3) (2.46.0)\n",
            "Collecting aioitertools>=0.5.1\n",
            "  Downloading aioitertools-0.11.0-py3-none-any.whl (23 kB)\n",
            "Collecting botocore<1.29.77,>=1.29.76\n",
            "  Downloading botocore-1.29.76-py3-none-any.whl (10.4 MB)\n",
            "\u001b[2K     \u001b[90m━━━━━━━━━━━━━━━━━━━━━━━━━━━━━━━━━━━━━━━━\u001b[0m \u001b[32m10.4/10.4 MB\u001b[0m \u001b[31m33.1 MB/s\u001b[0m eta \u001b[36m0:00:00\u001b[0m\n",
            "\u001b[?25hRequirement already satisfied: aiohttp>=3.3.1 in /usr/local/lib/python3.8/dist-packages (from aiobotocore[boto3]>1.0.1->dvc_s3) (3.8.4)\n",
            "Requirement already satisfied: wrapt>=1.10.10 in /usr/local/lib/python3.8/dist-packages (from aiobotocore[boto3]>1.0.1->dvc_s3) (1.15.0)\n",
            "Collecting boto3<1.26.77,>=1.26.76\n",
            "  Downloading boto3-1.26.76-py3-none-any.whl (132 kB)\n",
            "\u001b[2K     \u001b[90m━━━━━━━━━━━━━━━━━━━━━━━━━━━━━━━━━━━━━━\u001b[0m \u001b[32m132.7/132.7 KB\u001b[0m \u001b[31m11.7 MB/s\u001b[0m eta \u001b[36m0:00:00\u001b[0m\n",
            "\u001b[?25hRequirement already satisfied: six<2.0,>=1.12 in /usr/local/lib/python3.8/dist-packages (from flatten-dict<1,>=0.4.1->dvc_s3) (1.15.0)\n",
            "Collecting fsspec==2023.3.0\n",
            "  Downloading fsspec-2023.3.0-py3-none-any.whl (145 kB)\n",
            "\u001b[2K     \u001b[90m━━━━━━━━━━━━━━━━━━━━━━━━━━━━━━━━━━━━━━\u001b[0m \u001b[32m145.4/145.4 KB\u001b[0m \u001b[31m14.1 MB/s\u001b[0m eta \u001b[36m0:00:00\u001b[0m\n",
            "\u001b[?25hCollecting s3fs>=2022.02.0\n",
            "  Downloading s3fs-2023.1.0-py3-none-any.whl (27 kB)\n",
            "Requirement already satisfied: fsspec==2023.1.0 in /usr/local/lib/python3.8/dist-packages (from s3fs>=2022.02.0->dvc_s3) (2023.1.0)\n",
            "  Downloading s3fs-2022.11.0-py3-none-any.whl (27 kB)\n",
            "Collecting fsspec==2022.11.0\n",
            "  Downloading fsspec-2022.11.0-py3-none-any.whl (139 kB)\n",
            "\u001b[2K     \u001b[90m━━━━━━━━━━━━━━━━━━━━━━━━━━━━━━━━━━━━━━\u001b[0m \u001b[32m139.5/139.5 KB\u001b[0m \u001b[31m12.2 MB/s\u001b[0m eta \u001b[36m0:00:00\u001b[0m\n",
            "\u001b[?25hCollecting s3fs>=2022.02.0\n",
            "  Downloading s3fs-2022.10.0-py3-none-any.whl (27 kB)\n",
            "Collecting fsspec==2022.10.0\n",
            "  Downloading fsspec-2022.10.0-py3-none-any.whl (138 kB)\n",
            "\u001b[2K     \u001b[90m━━━━━━━━━━━━━━━━━━━━━━━━━━━━━━━━━━━━━━\u001b[0m \u001b[32m138.8/138.8 KB\u001b[0m \u001b[31m12.4 MB/s\u001b[0m eta \u001b[36m0:00:00\u001b[0m\n",
            "\u001b[?25hCollecting s3fs>=2022.02.0\n",
            "  Downloading s3fs-2022.8.2-py3-none-any.whl (27 kB)\n",
            "Collecting fsspec==2022.8.2\n",
            "  Downloading fsspec-2022.8.2-py3-none-any.whl (140 kB)\n",
            "\u001b[2K     \u001b[90m━━━━━━━━━━━━━━━━━━━━━━━━━━━━━━━━━━━━━━\u001b[0m \u001b[32m140.8/140.8 KB\u001b[0m \u001b[31m11.7 MB/s\u001b[0m eta \u001b[36m0:00:00\u001b[0m\n",
            "\u001b[?25hCollecting s3fs>=2022.02.0\n",
            "  Downloading s3fs-2022.8.1-py3-none-any.whl (27 kB)\n",
            "Collecting fsspec==2022.8.1\n",
            "  Downloading fsspec-2022.8.1-py3-none-any.whl (140 kB)\n",
            "\u001b[2K     \u001b[90m━━━━━━━━━━━━━━━━━━━━━━━━━━━━━━━━━━━━━━\u001b[0m \u001b[32m140.8/140.8 KB\u001b[0m \u001b[31m12.5 MB/s\u001b[0m eta \u001b[36m0:00:00\u001b[0m\n",
            "\u001b[?25hCollecting s3fs>=2022.02.0\n",
            "  Downloading s3fs-2022.8.0-py3-none-any.whl (27 kB)\n",
            "Collecting fsspec==2022.8.0\n",
            "  Downloading fsspec-2022.8.0-py3-none-any.whl (140 kB)\n",
            "\u001b[2K     \u001b[90m━━━━━━━━━━━━━━━━━━━━━━━━━━━━━━━━━━━━━━\u001b[0m \u001b[32m141.0/141.0 KB\u001b[0m \u001b[31m11.5 MB/s\u001b[0m eta \u001b[36m0:00:00\u001b[0m\n",
            "\u001b[?25hCollecting s3fs>=2022.02.0\n",
            "  Downloading s3fs-2022.7.1-py3-none-any.whl (27 kB)\n",
            "Collecting fsspec==2022.7.1\n",
            "  Downloading fsspec-2022.7.1-py3-none-any.whl (141 kB)\n",
            "\u001b[2K     \u001b[90m━━━━━━━━━━━━━━━━━━━━━━━━━━━━━━━━━━━━━━\u001b[0m \u001b[32m141.2/141.2 KB\u001b[0m \u001b[31m13.1 MB/s\u001b[0m eta \u001b[36m0:00:00\u001b[0m\n",
            "\u001b[?25hCollecting s3fs>=2022.02.0\n",
            "  Downloading s3fs-2022.7.0-py3-none-any.whl (27 kB)\n",
            "Collecting fsspec==2022.7.0\n",
            "  Downloading fsspec-2022.7.0-py3-none-any.whl (141 kB)\n",
            "\u001b[2K     \u001b[90m━━━━━━━━━━━━━━━━━━━━━━━━━━━━━━━━━━━━━━\u001b[0m \u001b[32m141.2/141.2 KB\u001b[0m \u001b[31m12.9 MB/s\u001b[0m eta \u001b[36m0:00:00\u001b[0m\n",
            "\u001b[?25hCollecting s3fs>=2022.02.0\n",
            "  Downloading s3fs-2022.5.0-py3-none-any.whl (27 kB)\n",
            "  Downloading s3fs-2022.3.0-py3-none-any.whl (26 kB)\n",
            "  Downloading s3fs-2022.2.0-py3-none-any.whl (26 kB)\n",
            "INFO: pip is looking at multiple versions of flatten-dict to determine which version is compatible with other requirements. This could take a while.\n",
            "Collecting flatten-dict<1,>=0.4.1\n",
            "  Using cached flatten_dict-0.4.2-py2.py3-none-any.whl (9.7 kB)\n",
            "INFO: pip is looking at multiple versions of aiobotocore[boto3] to determine which version is compatible with other requirements. This could take a while.\n",
            "Collecting aiobotocore[boto3]>1.0.1\n",
            "  Downloading aiobotocore-2.4.2-py3-none-any.whl (66 kB)\n",
            "\u001b[2K     \u001b[90m━━━━━━━━━━━━━━━━━━━━━━━━━━━━━━━━━━━━━━━━\u001b[0m \u001b[32m66.8/66.8 KB\u001b[0m \u001b[31m6.8 MB/s\u001b[0m eta \u001b[36m0:00:00\u001b[0m\n",
            "\u001b[?25hCollecting botocore<1.27.60,>=1.27.59\n",
            "  Downloading botocore-1.27.59-py3-none-any.whl (9.1 MB)\n",
            "\u001b[2K     \u001b[90m━━━━━━━━━━━━━━━━━━━━━━━━━━━━━━━━━━━━━━━━\u001b[0m \u001b[32m9.1/9.1 MB\u001b[0m \u001b[31m68.3 MB/s\u001b[0m eta \u001b[36m0:00:00\u001b[0m\n",
            "\u001b[?25hCollecting boto3<1.24.60,>=1.24.59\n",
            "  Downloading boto3-1.24.59-py3-none-any.whl (132 kB)\n",
            "\u001b[2K     \u001b[90m━━━━━━━━━━━━━━━━━━━━━━━━━━━━━━━━━━━━━━\u001b[0m \u001b[32m132.5/132.5 KB\u001b[0m \u001b[31m13.8 MB/s\u001b[0m eta \u001b[36m0:00:00\u001b[0m\n",
            "\u001b[?25hRequirement already satisfied: dvc-data<0.43,>=0.42.1 in /usr/local/lib/python3.8/dist-packages (from dvc->dvc_s3) (0.42.1)\n",
            "Requirement already satisfied: psutil>=5.8 in /usr/local/lib/python3.8/dist-packages (from dvc->dvc_s3) (5.9.4)\n",
            "Requirement already satisfied: tomlkit>=0.11.1 in /usr/local/lib/python3.8/dist-packages (from dvc->dvc_s3) (0.11.6)\n",
            "Requirement already satisfied: appdirs>=1.4.3 in /usr/local/lib/python3.8/dist-packages (from dvc->dvc_s3) (1.4.4)\n",
            "Requirement already satisfied: zc.lockfile>=1.2.1 in /usr/local/lib/python3.8/dist-packages (from dvc->dvc_s3) (3.0.post1)\n",
            "Requirement already satisfied: grandalf<1,>=0.7 in /usr/local/lib/python3.8/dist-packages (from dvc->dvc_s3) (0.8)\n",
            "Requirement already satisfied: colorama>=0.3.9 in /usr/local/lib/python3.8/dist-packages (from dvc->dvc_s3) (0.4.4)\n",
            "Requirement already satisfied: voluptuous>=0.11.7 in /usr/local/lib/python3.8/dist-packages (from dvc->dvc_s3) (0.13.1)\n",
            "Requirement already satisfied: packaging>=19 in /usr/local/lib/python3.8/dist-packages (from dvc->dvc_s3) (23.0)\n",
            "Requirement already satisfied: dvc-http in /usr/local/lib/python3.8/dist-packages (from dvc->dvc_s3) (2.30.2)\n",
            "Requirement already satisfied: pyparsing>=2.4.7 in /usr/local/lib/python3.8/dist-packages (from dvc->dvc_s3) (3.0.9)\n",
            "Requirement already satisfied: distro>=1.3 in /usr/local/lib/python3.8/dist-packages (from dvc->dvc_s3) (1.8.0)\n",
            "Requirement already satisfied: rich>=12 in /usr/local/lib/python3.8/dist-packages (from dvc->dvc_s3) (13.3.2)\n",
            "Requirement already satisfied: configobj>=5.0.6 in /usr/local/lib/python3.8/dist-packages (from dvc->dvc_s3) (5.0.8)\n",
            "Requirement already satisfied: iterative-telemetry>=0.0.7 in /usr/local/lib/python3.8/dist-packages (from dvc->dvc_s3) (0.0.7)\n",
            "Requirement already satisfied: scmrepo<1,>=0.1.15 in /usr/local/lib/python3.8/dist-packages (from dvc->dvc_s3) (0.1.15)\n",
            "Requirement already satisfied: shtab<2,>=1.3.4 in /usr/local/lib/python3.8/dist-packages (from dvc->dvc_s3) (1.5.8)\n",
            "Requirement already satisfied: flufl.lock>=5 in /usr/local/lib/python3.8/dist-packages (from dvc->dvc_s3) (7.1.1)\n",
            "Requirement already satisfied: requests>=2.22 in /usr/local/lib/python3.8/dist-packages (from dvc->dvc_s3) (2.25.1)\n",
            "Requirement already satisfied: dpath<3,>=2.1.0 in /usr/local/lib/python3.8/dist-packages (from dvc->dvc_s3) (2.1.4)\n",
            "Requirement already satisfied: dvc-render>=0.1.2 in /usr/local/lib/python3.8/dist-packages (from dvc->dvc_s3) (0.2.0)\n",
            "Requirement already satisfied: funcy>=1.14 in /usr/local/lib/python3.8/dist-packages (from dvc->dvc_s3) (1.18)\n",
            "Requirement already satisfied: networkx>=2.5 in /usr/local/lib/python3.8/dist-packages (from dvc->dvc_s3) (3.0)\n",
            "Requirement already satisfied: pygtrie>=2.3.2 in /usr/local/lib/python3.8/dist-packages (from dvc->dvc_s3) (2.5.0)\n",
            "Requirement already satisfied: shortuuid>=0.5 in /usr/local/lib/python3.8/dist-packages (from dvc->dvc_s3) (1.0.11)\n",
            "Requirement already satisfied: dvc-task<1,>=0.2.0 in /usr/local/lib/python3.8/dist-packages (from dvc->dvc_s3) (0.2.0)\n",
            "Requirement already satisfied: tabulate>=0.8.7 in /usr/local/lib/python3.8/dist-packages (from dvc->dvc_s3) (0.8.10)\n",
            "Requirement already satisfied: dvc-studio-client>=0.1.1 in /usr/local/lib/python3.8/dist-packages (from dvc->dvc_s3) (0.5.1)\n",
            "Requirement already satisfied: tqdm<5,>=4.63.1 in /usr/local/lib/python3.8/dist-packages (from dvc->dvc_s3) (4.64.1)\n",
            "Requirement already satisfied: pathspec>=0.10.3 in /usr/local/lib/python3.8/dist-packages (from dvc->dvc_s3) (0.11.0)\n",
            "Requirement already satisfied: pydot>=1.2.4 in /usr/local/lib/python3.8/dist-packages (from dvc->dvc_s3) (1.3.0)\n",
            "Requirement already satisfied: ruamel.yaml>=0.17.11 in /usr/local/lib/python3.8/dist-packages (from dvc->dvc_s3) (0.17.21)\n",
            "Requirement already satisfied: hydra-core>=1.1 in /usr/local/lib/python3.8/dist-packages (from dvc->dvc_s3) (1.3.2)\n",
            "Requirement already satisfied: frozenlist>=1.1.1 in /usr/local/lib/python3.8/dist-packages (from aiohttp>=3.3.1->aiobotocore[boto3]>1.0.1->dvc_s3) (1.3.3)\n",
            "Requirement already satisfied: charset-normalizer<4.0,>=2.0 in /usr/local/lib/python3.8/dist-packages (from aiohttp>=3.3.1->aiobotocore[boto3]>1.0.1->dvc_s3) (3.0.1)\n",
            "Requirement already satisfied: attrs>=17.3.0 in /usr/local/lib/python3.8/dist-packages (from aiohttp>=3.3.1->aiobotocore[boto3]>1.0.1->dvc_s3) (22.2.0)\n",
            "Requirement already satisfied: async-timeout<5.0,>=4.0.0a3 in /usr/local/lib/python3.8/dist-packages (from aiohttp>=3.3.1->aiobotocore[boto3]>1.0.1->dvc_s3) (4.0.2)\n",
            "Requirement already satisfied: yarl<2.0,>=1.0 in /usr/local/lib/python3.8/dist-packages (from aiohttp>=3.3.1->aiobotocore[boto3]>1.0.1->dvc_s3) (1.8.2)\n",
            "Requirement already satisfied: aiosignal>=1.1.2 in /usr/local/lib/python3.8/dist-packages (from aiohttp>=3.3.1->aiobotocore[boto3]>1.0.1->dvc_s3) (1.3.1)\n",
            "Requirement already satisfied: multidict<7.0,>=4.5 in /usr/local/lib/python3.8/dist-packages (from aiohttp>=3.3.1->aiobotocore[boto3]>1.0.1->dvc_s3) (6.0.4)\n",
            "Requirement already satisfied: typing_extensions>=4.0 in /usr/local/lib/python3.8/dist-packages (from aioitertools>=0.5.1->aiobotocore[boto3]>1.0.1->dvc_s3) (4.5.0)\n",
            "Requirement already satisfied: jmespath<2.0.0,>=0.7.1 in /usr/local/lib/python3.8/dist-packages (from boto3<1.24.60,>=1.24.59->aiobotocore[boto3]>1.0.1->dvc_s3) (1.0.1)\n",
            "Requirement already satisfied: s3transfer<0.7.0,>=0.6.0 in /usr/local/lib/python3.8/dist-packages (from boto3<1.24.60,>=1.24.59->aiobotocore[boto3]>1.0.1->dvc_s3) (0.6.0)\n",
            "Requirement already satisfied: urllib3<1.27,>=1.25.4 in /usr/local/lib/python3.8/dist-packages (from botocore<1.27.60,>=1.27.59->aiobotocore[boto3]>1.0.1->dvc_s3) (1.26.14)\n",
            "Requirement already satisfied: python-dateutil<3.0.0,>=2.1 in /usr/local/lib/python3.8/dist-packages (from botocore<1.27.60,>=1.27.59->aiobotocore[boto3]>1.0.1->dvc_s3) (2.8.2)\n",
            "Requirement already satisfied: sqltrie<1,>=0.1.0 in /usr/local/lib/python3.8/dist-packages (from dvc-data<0.43,>=0.42.1->dvc->dvc_s3) (0.1.0)\n",
            "Requirement already satisfied: nanotime>=0.5.2 in /usr/local/lib/python3.8/dist-packages (from dvc-data<0.43,>=0.42.1->dvc->dvc_s3) (0.5.2)\n",
            "Requirement already satisfied: diskcache>=5.2.1 in /usr/local/lib/python3.8/dist-packages (from dvc-data<0.43,>=0.42.1->dvc->dvc_s3) (5.4.0)\n",
            "Requirement already satisfied: dictdiffer>=0.8.1 in /usr/local/lib/python3.8/dist-packages (from dvc-data<0.43,>=0.42.1->dvc->dvc_s3) (0.9.0)\n",
            "Requirement already satisfied: dvc-objects<1,>=0.21.1 in /usr/local/lib/python3.8/dist-packages (from dvc-data<0.43,>=0.42.1->dvc->dvc_s3) (0.21.1)\n",
            "Requirement already satisfied: gitpython in /usr/local/lib/python3.8/dist-packages (from dvc-studio-client>=0.1.1->dvc->dvc_s3) (3.1.31)\n",
            "Requirement already satisfied: kombu<6,>=5.2.0 in /usr/local/lib/python3.8/dist-packages (from dvc-task<1,>=0.2.0->dvc->dvc_s3) (5.2.4)\n",
            "Requirement already satisfied: celery<6,>=5.2.0 in /usr/local/lib/python3.8/dist-packages (from dvc-task<1,>=0.2.0->dvc->dvc_s3) (5.2.7)\n",
            "Requirement already satisfied: atpublic>=2.3 in /usr/local/lib/python3.8/dist-packages (from flufl.lock>=5->dvc->dvc_s3) (3.1.1)\n",
            "Requirement already satisfied: omegaconf<2.4,>=2.2 in /usr/local/lib/python3.8/dist-packages (from hydra-core>=1.1->dvc->dvc_s3) (2.3.0)\n",
            "Requirement already satisfied: antlr4-python3-runtime==4.9.* in /usr/local/lib/python3.8/dist-packages (from hydra-core>=1.1->dvc->dvc_s3) (4.9.3)\n",
            "Requirement already satisfied: importlib-resources in /usr/local/lib/python3.8/dist-packages (from hydra-core>=1.1->dvc->dvc_s3) (5.12.0)\n",
            "Requirement already satisfied: filelock in /usr/local/lib/python3.8/dist-packages (from iterative-telemetry>=0.0.7->dvc->dvc_s3) (3.9.0)\n",
            "Requirement already satisfied: chardet<5,>=3.0.2 in /usr/local/lib/python3.8/dist-packages (from requests>=2.22->dvc->dvc_s3) (4.0.0)\n",
            "Requirement already satisfied: idna<3,>=2.5 in /usr/local/lib/python3.8/dist-packages (from requests>=2.22->dvc->dvc_s3) (2.10)\n",
            "Requirement already satisfied: certifi>=2017.4.17 in /usr/local/lib/python3.8/dist-packages (from requests>=2.22->dvc->dvc_s3) (2022.12.7)\n",
            "Requirement already satisfied: pygments<3.0.0,>=2.13.0 in /usr/local/lib/python3.8/dist-packages (from rich>=12->dvc->dvc_s3) (2.14.0)\n",
            "Requirement already satisfied: markdown-it-py<3.0.0,>=2.2.0 in /usr/local/lib/python3.8/dist-packages (from rich>=12->dvc->dvc_s3) (2.2.0)\n",
            "Requirement already satisfied: ruamel.yaml.clib>=0.2.6 in /usr/local/lib/python3.8/dist-packages (from ruamel.yaml>=0.17.11->dvc->dvc_s3) (0.2.7)\n",
            "Requirement already satisfied: asyncssh<3,>=2.7.1 in /usr/local/lib/python3.8/dist-packages (from scmrepo<1,>=0.1.15->dvc->dvc_s3) (2.13.1)\n",
            "Requirement already satisfied: pygit2>=1.10.0 in /usr/local/lib/python3.8/dist-packages (from scmrepo<1,>=0.1.15->dvc->dvc_s3) (1.11.1)\n",
            "Requirement already satisfied: dulwich>=0.20.49 in /usr/local/lib/python3.8/dist-packages (from scmrepo<1,>=0.1.15->dvc->dvc_s3) (0.21.3)\n",
            "Requirement already satisfied: setuptools in /usr/local/lib/python3.8/dist-packages (from zc.lockfile>=1.2.1->dvc->dvc_s3) (57.4.0)\n",
            "Requirement already satisfied: aiohttp-retry>=2.5.0 in /usr/local/lib/python3.8/dist-packages (from dvc-http->dvc->dvc_s3) (2.8.3)\n",
            "Requirement already satisfied: cryptography>=3.1 in /usr/local/lib/python3.8/dist-packages (from asyncssh<3,>=2.7.1->scmrepo<1,>=0.1.15->dvc->dvc_s3) (39.0.2)\n",
            "Requirement already satisfied: vine<6.0,>=5.0.0 in /usr/local/lib/python3.8/dist-packages (from celery<6,>=5.2.0->dvc-task<1,>=0.2.0->dvc->dvc_s3) (5.0.0)\n",
            "Requirement already satisfied: click-repl>=0.2.0 in /usr/local/lib/python3.8/dist-packages (from celery<6,>=5.2.0->dvc-task<1,>=0.2.0->dvc->dvc_s3) (0.2.0)\n",
            "Requirement already satisfied: pytz>=2021.3 in /usr/local/lib/python3.8/dist-packages (from celery<6,>=5.2.0->dvc-task<1,>=0.2.0->dvc->dvc_s3) (2022.7.1)\n",
            "Requirement already satisfied: billiard<4.0,>=3.6.4.0 in /usr/local/lib/python3.8/dist-packages (from celery<6,>=5.2.0->dvc-task<1,>=0.2.0->dvc->dvc_s3) (3.6.4.0)\n",
            "Requirement already satisfied: click-didyoumean>=0.0.3 in /usr/local/lib/python3.8/dist-packages (from celery<6,>=5.2.0->dvc-task<1,>=0.2.0->dvc->dvc_s3) (0.3.0)\n",
            "Requirement already satisfied: click<9.0,>=8.0.3 in /usr/local/lib/python3.8/dist-packages (from celery<6,>=5.2.0->dvc-task<1,>=0.2.0->dvc->dvc_s3) (8.1.3)\n",
            "Requirement already satisfied: click-plugins>=1.1.1 in /usr/local/lib/python3.8/dist-packages (from celery<6,>=5.2.0->dvc-task<1,>=0.2.0->dvc->dvc_s3) (1.1.1)\n",
            "Requirement already satisfied: gitdb<5,>=4.0.1 in /usr/local/lib/python3.8/dist-packages (from gitpython->dvc-studio-client>=0.1.1->dvc->dvc_s3) (4.0.10)\n",
            "Requirement already satisfied: amqp<6.0.0,>=5.0.9 in /usr/local/lib/python3.8/dist-packages (from kombu<6,>=5.2.0->dvc-task<1,>=0.2.0->dvc->dvc_s3) (5.1.1)\n",
            "Requirement already satisfied: mdurl~=0.1 in /usr/local/lib/python3.8/dist-packages (from markdown-it-py<3.0.0,>=2.2.0->rich>=12->dvc->dvc_s3) (0.1.2)\n",
            "Requirement already satisfied: PyYAML>=5.1.0 in /usr/local/lib/python3.8/dist-packages (from omegaconf<2.4,>=2.2->hydra-core>=1.1->dvc->dvc_s3) (5.4.1)\n",
            "Requirement already satisfied: cffi>=1.9.1 in /usr/local/lib/python3.8/dist-packages (from pygit2>=1.10.0->scmrepo<1,>=0.1.15->dvc->dvc_s3) (1.15.1)\n",
            "Requirement already satisfied: orjson in /usr/local/lib/python3.8/dist-packages (from sqltrie<1,>=0.1.0->dvc-data<0.43,>=0.42.1->dvc->dvc_s3) (3.8.7)\n",
            "Requirement already satisfied: zipp>=3.1.0 in /usr/local/lib/python3.8/dist-packages (from importlib-resources->hydra-core>=1.1->dvc->dvc_s3) (3.15.0)\n",
            "Requirement already satisfied: pycparser in /usr/local/lib/python3.8/dist-packages (from cffi>=1.9.1->pygit2>=1.10.0->scmrepo<1,>=0.1.15->dvc->dvc_s3) (2.21)\n",
            "Requirement already satisfied: prompt-toolkit in /usr/local/lib/python3.8/dist-packages (from click-repl>=0.2.0->celery<6,>=5.2.0->dvc-task<1,>=0.2.0->dvc->dvc_s3) (2.0.10)\n",
            "Requirement already satisfied: smmap<6,>=3.0.1 in /usr/local/lib/python3.8/dist-packages (from gitdb<5,>=4.0.1->gitpython->dvc-studio-client>=0.1.1->dvc->dvc_s3) (5.0.0)\n",
            "Requirement already satisfied: wcwidth in /usr/local/lib/python3.8/dist-packages (from prompt-toolkit->click-repl>=0.2.0->celery<6,>=5.2.0->dvc-task<1,>=0.2.0->dvc->dvc_s3) (0.2.6)\n",
            "Installing collected packages: fsspec, aioitertools, botocore, aiobotocore, s3fs, boto3, dvc_s3\n",
            "  Attempting uninstall: fsspec\n",
            "    Found existing installation: fsspec 2023.1.0\n",
            "    Uninstalling fsspec-2023.1.0:\n",
            "      Successfully uninstalled fsspec-2023.1.0\n",
            "  Attempting uninstall: botocore\n",
            "    Found existing installation: botocore 1.29.86\n",
            "    Uninstalling botocore-1.29.86:\n",
            "      Successfully uninstalled botocore-1.29.86\n",
            "  Attempting uninstall: boto3\n",
            "    Found existing installation: boto3 1.26.86\n",
            "    Uninstalling boto3-1.26.86:\n",
            "      Successfully uninstalled boto3-1.26.86\n",
            "\u001b[31mERROR: pip's dependency resolver does not currently take into account all the packages that are installed. This behaviour is the source of the following dependency conflicts.\n",
            "awscli 1.27.86 requires botocore==1.29.86, but you have botocore 1.27.59 which is incompatible.\u001b[0m\u001b[31m\n",
            "\u001b[0mSuccessfully installed aiobotocore-2.4.2 aioitertools-0.11.0 boto3-1.24.59 botocore-1.27.59 dvc_s3-2.21.0 fsspec-2023.3.0 s3fs-2023.3.0\n"
          ]
        }
      ]
    },
    {
      "cell_type": "code",
      "source": [
        "!dvc push"
      ],
      "metadata": {
        "colab": {
          "base_uri": "https://localhost:8080/"
        },
        "id": "K9emIR1uGqPp",
        "outputId": "c7453ca6-f6f5-49ba-e5ad-a444aa40e5a1"
      },
      "execution_count": 38,
      "outputs": [
        {
          "output_type": "stream",
          "name": "stdout",
          "text": [
            "Transferring:   0% 0/1 [00:00<?, ?file/s{'info': ''}]  \n",
            "!\u001b[A\n",
            "  0%|          |/content/.dvc/cache/22/a1a2931c83700.00/? [00:00<?,        ?B/s]\u001b[A\n",
            "  0% 0.00/13.8M [00:00<?, ?B/s{'info': ''}]                                     \u001b[A\n",
            "Transferring: 100% 1/1 [00:00<00:00,  2.09file/s{'info': ''}]\n",
            "1 file pushed\n",
            "\u001b[0m"
          ]
        }
      ]
    },
    {
      "cell_type": "code",
      "source": [
        "!rm -rf data/data.xml"
      ],
      "metadata": {
        "id": "WgCdHlCrHtcm"
      },
      "execution_count": 45,
      "outputs": []
    },
    {
      "cell_type": "code",
      "source": [
        "!rm -rf .dvc/cache"
      ],
      "metadata": {
        "id": "1Jl3B0vuH_cW"
      },
      "execution_count": 46,
      "outputs": []
    },
    {
      "cell_type": "code",
      "source": [
        "!dvc pull"
      ],
      "metadata": {
        "colab": {
          "base_uri": "https://localhost:8080/"
        },
        "id": "y0ECvcREIKqf",
        "outputId": "57da73ef-30c5-48de-f878-c1b3d5da6b6e"
      },
      "execution_count": 47,
      "outputs": [
        {
          "output_type": "stream",
          "name": "stdout",
          "text": [
            "Transferring:   0% 0/1 [00:00<?, ?file/s{'info': ''}]  \n",
            "!\u001b[A\n",
            "  0%|          |project-dvcbucket/dvcstore/22/a1a290.00/? [00:00<?,        ?B/s]\u001b[A\n",
            "  0% 0.00/13.8M [00:00<?, ?B/s{'info': ''}]                                     \u001b[A\n",
            "Transferring: 100% 1/1 [00:00<00:00,  2.60file/s{'info': ''}]\n",
            "Checkout:   0% 0/1 [00:00<?, ?file/s{'info': ''}]\n",
            "!\u001b[A\n",
            "  0%|          |/content/.dvc/cache/22/a1a2931c83700.00/? [00:00<?,        ?B/s]\u001b[A\n",
            "  0% 0.00/13.8M [00:00<?, ?B/s{'info': ''}]                                     \u001b[A\n",
            "\u001b[32mA\u001b[0m       data/data.xml\n",
            "1 file added and 1 file fetched\n",
            "\u001b[0m"
          ]
        }
      ]
    },
    {
      "cell_type": "code",
      "source": [
        "!ls -lh data/"
      ],
      "metadata": {
        "colab": {
          "base_uri": "https://localhost:8080/"
        },
        "id": "faTCeodNIR7f",
        "outputId": "6fdcfa03-4ef2-42bb-f98c-5b9b83686ba7"
      },
      "execution_count": 48,
      "outputs": [
        {
          "output_type": "stream",
          "name": "stdout",
          "text": [
            "total 14M\n",
            "-rw-r--r-- 1 root root 14M Mar  8 07:30 data.xml\n",
            "-rw-r--r-- 1 root root  80 Mar  8 06:07 data.xml.dvc\n"
          ]
        }
      ]
    },
    {
      "cell_type": "code",
      "source": [
        "!cp data/data.xml /tmp/data.xml\n",
        "!cat /tmp/data.xml >> data/data.xml"
      ],
      "metadata": {
        "id": "xk3BpVE2JdhM"
      },
      "execution_count": 49,
      "outputs": []
    },
    {
      "cell_type": "code",
      "source": [
        "!ls -lh data/"
      ],
      "metadata": {
        "colab": {
          "base_uri": "https://localhost:8080/"
        },
        "id": "W3287ERbJsb2",
        "outputId": "e2bcb858-a7db-43a5-d14f-4c26e2103e85"
      },
      "execution_count": 50,
      "outputs": [
        {
          "output_type": "stream",
          "name": "stdout",
          "text": [
            "total 28M\n",
            "-rw-r--r-- 1 root root 28M Mar  8 07:36 data.xml\n",
            "-rw-r--r-- 1 root root  80 Mar  8 06:07 data.xml.dvc\n"
          ]
        }
      ]
    },
    {
      "cell_type": "markdown",
      "source": [
        "So, if you match both these ls -lh command outputs, you'll see that the size of data.xml has got twice due to duplication."
      ],
      "metadata": {
        "id": "s87iPiG-JyRx"
      }
    },
    {
      "cell_type": "code",
      "source": [
        "!dvc add data/data.xml"
      ],
      "metadata": {
        "colab": {
          "base_uri": "https://localhost:8080/"
        },
        "id": "LiIm391PJxrQ",
        "outputId": "e7bba942-f58b-48df-f3ae-0c9754a7848b"
      },
      "execution_count": 51,
      "outputs": [
        {
          "output_type": "stream",
          "name": "stdout",
          "text": [
            "\u001b[2K\u001b[32m⠋\u001b[0m Checking graph\n",
            "Adding...:   0% 0/1 [00:00<?, ?file/s{'info': ''}]\n",
            "!\u001b[A\n",
            "  0% |          |0/? [00:00<?,    ?files/s]\u001b[A\n",
            "                                           \u001b[A\n",
            "!\u001b[A\n",
            "  0%|          |Transferring                          0/? [00:00<?,     ?file/s]\u001b[A\n",
            "Transferring:   0% 0/1 [00:00<?, ?file/s{'info': ''}]                           \u001b[A\n",
            "Adding...: 100% 1/1 [00:00<00:00,  5.91file/s{'info': ''}]\n",
            "\n",
            "To track the changes with git, run:\n",
            "\n",
            "\tgit add data/data.xml.dvc\n",
            "\n",
            "To enable auto staging, run:\n",
            "\n",
            "\tdvc config core.autostage true\n",
            "\u001b[0m"
          ]
        }
      ]
    },
    {
      "cell_type": "code",
      "source": [
        "!dvc push"
      ],
      "metadata": {
        "colab": {
          "base_uri": "https://localhost:8080/"
        },
        "id": "EcPvzM9PKULv",
        "outputId": "e6f02374-2880-41bc-a002-475ee076d11d"
      },
      "execution_count": 52,
      "outputs": [
        {
          "output_type": "stream",
          "name": "stdout",
          "text": [
            "Transferring:   0% 0/1 [00:00<?, ?file/s{'info': ''}]  \n",
            "!\u001b[A\n",
            "  0%|          |/content/.dvc/cache/07/9fbd15fa2c320.00/? [00:00<?,        ?B/s]\u001b[A\n",
            "  0% 0.00/27.6M [00:00<?, ?B/s{'info': ''}]                                     \u001b[A\n",
            "Transferring: 100% 1/1 [00:00<00:00,  1.93file/s{'info': ''}]\n",
            "1 file pushed\n",
            "\u001b[0m"
          ]
        }
      ]
    },
    {
      "cell_type": "code",
      "source": [
        "!git commit data/data.xml.dvc -m \"Dataset updated\""
      ],
      "metadata": {
        "colab": {
          "base_uri": "https://localhost:8080/"
        },
        "id": "SQIhkTpkKo8W",
        "outputId": "255dc8b0-23ed-42bc-8ace-03d756cfb83e"
      },
      "execution_count": 54,
      "outputs": [
        {
          "output_type": "stream",
          "name": "stdout",
          "text": [
            "[master b8cf95d] Dataset updated\n",
            " 1 file changed, 2 insertions(+), 2 deletions(-)\n"
          ]
        }
      ]
    },
    {
      "cell_type": "code",
      "source": [
        "!git log"
      ],
      "metadata": {
        "colab": {
          "base_uri": "https://localhost:8080/"
        },
        "id": "ImUIUFXfLDTs",
        "outputId": "f5e221a8-5814-4cde-bde0-588e681ca75d"
      },
      "execution_count": 55,
      "outputs": [
        {
          "output_type": "stream",
          "name": "stdout",
          "text": [
            "\u001b[33mcommit b8cf95d8dbec9d6174902aef0d69e3be3975134c\u001b[m\u001b[33m (\u001b[m\u001b[1;36mHEAD -> \u001b[m\u001b[1;32mmaster\u001b[m\u001b[33m)\u001b[m\n",
            "Author: Vaibhav Ahuja <ahujav557@gmail.com>\n",
            "Date:   Wed Mar 8 07:41:44 2023 +0000\n",
            "\n",
            "    Dataset updated\n",
            "\n",
            "\u001b[33mcommit 57dc0e9e1aa87e5ecc646078c7356f4a05529895\u001b[m\n",
            "Author: Vaibhav Ahuja <ahujav557@gmail.com>\n",
            "Date:   Wed Mar 8 07:19:36 2023 +0000\n",
            "\n",
            "    configured remote storage\n",
            "\n",
            "\u001b[33mcommit 3b74d373c98b1efff47110f83ac17c10e8baebdf\u001b[m\n",
            "Author: Vaibhav Ahuja <ahujav557@gmail.com>\n",
            "Date:   Wed Mar 8 06:07:32 2023 +0000\n",
            "\n",
            "    Add raw data\n",
            "\n",
            "\u001b[33mcommit 286428a34c537745eb1c492c47da7fc044b22a27\u001b[m\n",
            "Author: Vaibhav Ahuja <ahujav557@gmail.com>\n",
            "Date:   Wed Mar 8 06:01:41 2023 +0000\n",
            "\n",
            "    initialize dvc\n"
          ]
        }
      ]
    },
    {
      "cell_type": "code",
      "source": [
        "!git checkout HEAD^1 data/data.xml.dvc"
      ],
      "metadata": {
        "colab": {
          "base_uri": "https://localhost:8080/"
        },
        "id": "bfVOwXlgLW-s",
        "outputId": "51dab1bf-0753-40c4-80e0-927ee2ecdd01"
      },
      "execution_count": 56,
      "outputs": [
        {
          "output_type": "stream",
          "name": "stdout",
          "text": [
            "Updated 1 path from 89c59af\n"
          ]
        }
      ]
    },
    {
      "cell_type": "code",
      "source": [
        "!dvc checkout"
      ],
      "metadata": {
        "colab": {
          "base_uri": "https://localhost:8080/"
        },
        "id": "zUoJ79qpLqo_",
        "outputId": "c7ca08e6-945b-499f-aae7-c0ffcd9710da"
      },
      "execution_count": 57,
      "outputs": [
        {
          "output_type": "stream",
          "name": "stdout",
          "text": [
            "\r!\rIf DVC froze, see `hardlink_lock` in <\u001b[36mhttps://man.dvc.org/config#core\u001b[39m>\r                                                                      \r\r!\r  0% Checkout|          |0/? [00:00<?,     ?file/s]\rCheckout:   0% 0/1 [00:00<?, ?file/s{'info': ''}]  \rCheckout:   0% 0/1 [00:00<?, ?file/s{'info': ''}]\n",
            "\r!\u001b[A\n",
            "\r  0%|          |/content/.dvc/cache/22/a1a2931c83700.00/? [00:00<?,        ?B/s]\u001b[A\n",
            "\r  0% 0.00/13.8M [00:00<?, ?B/s{'info': ''}]                                     \u001b[A\n",
            "\r                                           \u001b[A\r                                                 \r\u001b[33mM\u001b[0m       data/data.xml\n",
            "\u001b[0m"
          ]
        }
      ]
    },
    {
      "cell_type": "code",
      "source": [
        "!ls -lh data/data.xml"
      ],
      "metadata": {
        "colab": {
          "base_uri": "https://localhost:8080/"
        },
        "id": "Zb346F3wL7xR",
        "outputId": "6e745869-d25c-4c3b-8915-41529c42b646"
      },
      "execution_count": 58,
      "outputs": [
        {
          "output_type": "stream",
          "name": "stdout",
          "text": [
            "-rw-r--r-- 1 root root 14M Mar  8 07:45 data/data.xml\n"
          ]
        }
      ]
    },
    {
      "cell_type": "markdown",
      "source": [
        "we are back to our original state , i.e. before duplication."
      ],
      "metadata": {
        "id": "NRcm-gRaMGn1"
      }
    },
    {
      "cell_type": "code",
      "source": [
        "!git commit data/data.xml.dvc -m \"datasets duplication changes are reverted\""
      ],
      "metadata": {
        "colab": {
          "base_uri": "https://localhost:8080/"
        },
        "id": "pKXThFmCMFcA",
        "outputId": "c9642e00-9c38-47a1-9fa3-7fd9251b3ea9"
      },
      "execution_count": 59,
      "outputs": [
        {
          "output_type": "stream",
          "name": "stdout",
          "text": [
            "[master 3fd04a6] datasets duplication changes are reverted\n",
            " 1 file changed, 2 insertions(+), 2 deletions(-)\n"
          ]
        }
      ]
    },
    {
      "cell_type": "markdown",
      "source": [
        "So uptil now we have seen all that dvc can do in versioning section . After this we will look for data & model access"
      ],
      "metadata": {
        "id": "JXLXYnd0PGKf"
      }
    },
    {
      "cell_type": "code",
      "source": [],
      "metadata": {
        "id": "hPWAivrKPFoM"
      },
      "execution_count": null,
      "outputs": []
    },
    {
      "cell_type": "code",
      "source": [],
      "metadata": {
        "id": "6dB0B78oNK6B"
      },
      "execution_count": null,
      "outputs": []
    }
  ]
}